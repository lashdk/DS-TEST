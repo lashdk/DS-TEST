{
 "cells": [
  {
   "cell_type": "code",
   "execution_count": 3,
   "metadata": {},
   "outputs": [],
   "source": [
    "import pandas as pd\n",
    "import numpy as np\n",
    "import matplotlib.pyplot as plt\n"
   ]
  },
  {
   "cell_type": "code",
   "execution_count": 4,
   "metadata": {},
   "outputs": [],
   "source": [
    "### Data Loading "
   ]
  },
  {
   "cell_type": "code",
   "execution_count": 5,
   "metadata": {},
   "outputs": [],
   "source": [
    "X_train=pd.read_csv('X_train.csv',true_values = ['TRUE'], false_values= ['FALSE'])"
   ]
  },
  {
   "cell_type": "code",
   "execution_count": 6,
   "metadata": {},
   "outputs": [
    {
     "data": {
      "text/plain": [
       "(33050, 44)"
      ]
     },
     "execution_count": 6,
     "metadata": {},
     "output_type": "execute_result"
    }
   ],
   "source": [
    "X_train.shape"
   ]
  },
  {
   "cell_type": "markdown",
   "metadata": {},
   "source": [
    "Here using the describe function we can see the range for each feature and the number of entries present."
   ]
  },
  {
   "cell_type": "code",
   "execution_count": 7,
   "metadata": {},
   "outputs": [
    {
     "data": {
      "text/html": [
       "<div>\n",
       "<style scoped>\n",
       "    .dataframe tbody tr th:only-of-type {\n",
       "        vertical-align: middle;\n",
       "    }\n",
       "\n",
       "    .dataframe tbody tr th {\n",
       "        vertical-align: top;\n",
       "    }\n",
       "\n",
       "    .dataframe thead th {\n",
       "        text-align: right;\n",
       "    }\n",
       "</style>\n",
       "<table border=\"1\" class=\"dataframe\">\n",
       "  <thead>\n",
       "    <tr style=\"text-align: right;\">\n",
       "      <th></th>\n",
       "      <th>C1</th>\n",
       "      <th>C2</th>\n",
       "      <th>C3</th>\n",
       "      <th>C4</th>\n",
       "      <th>C5</th>\n",
       "      <th>C7</th>\n",
       "      <th>N1</th>\n",
       "      <th>N2</th>\n",
       "      <th>N3</th>\n",
       "      <th>N4</th>\n",
       "      <th>...</th>\n",
       "      <th>N26</th>\n",
       "      <th>N27</th>\n",
       "      <th>N28</th>\n",
       "      <th>N29</th>\n",
       "      <th>N30</th>\n",
       "      <th>N31</th>\n",
       "      <th>N32</th>\n",
       "      <th>N33</th>\n",
       "      <th>N34</th>\n",
       "      <th>N35</th>\n",
       "    </tr>\n",
       "  </thead>\n",
       "  <tbody>\n",
       "    <tr>\n",
       "      <th>count</th>\n",
       "      <td>33050.000000</td>\n",
       "      <td>33050.000000</td>\n",
       "      <td>33050.000000</td>\n",
       "      <td>33050.000000</td>\n",
       "      <td>33050.000000</td>\n",
       "      <td>33050.000000</td>\n",
       "      <td>33050.00000</td>\n",
       "      <td>28438.000000</td>\n",
       "      <td>32685.000000</td>\n",
       "      <td>28444.000000</td>\n",
       "      <td>...</td>\n",
       "      <td>6271.000000</td>\n",
       "      <td>6271.000000</td>\n",
       "      <td>6271.000000</td>\n",
       "      <td>6271.000000</td>\n",
       "      <td>6271.000000</td>\n",
       "      <td>6271.000000</td>\n",
       "      <td>6220.000000</td>\n",
       "      <td>33050.000000</td>\n",
       "      <td>33050.000000</td>\n",
       "      <td>32623.000000</td>\n",
       "    </tr>\n",
       "    <tr>\n",
       "      <th>mean</th>\n",
       "      <td>1.119818</td>\n",
       "      <td>2.403873</td>\n",
       "      <td>12.856097</td>\n",
       "      <td>14.437398</td>\n",
       "      <td>1.719395</td>\n",
       "      <td>3.124932</td>\n",
       "      <td>19.97653</td>\n",
       "      <td>81.342710</td>\n",
       "      <td>3.359361</td>\n",
       "      <td>9.574075</td>\n",
       "      <td>...</td>\n",
       "      <td>20.084197</td>\n",
       "      <td>19.512199</td>\n",
       "      <td>0.526391</td>\n",
       "      <td>0.045288</td>\n",
       "      <td>7192.813526</td>\n",
       "      <td>2379.621620</td>\n",
       "      <td>0.744373</td>\n",
       "      <td>125.629394</td>\n",
       "      <td>224.313536</td>\n",
       "      <td>19.587254</td>\n",
       "    </tr>\n",
       "    <tr>\n",
       "      <th>std</th>\n",
       "      <td>0.399382</td>\n",
       "      <td>3.399024</td>\n",
       "      <td>12.013457</td>\n",
       "      <td>15.527474</td>\n",
       "      <td>1.320860</td>\n",
       "      <td>2.158905</td>\n",
       "      <td>8.11087</td>\n",
       "      <td>85.397795</td>\n",
       "      <td>0.411040</td>\n",
       "      <td>5.584756</td>\n",
       "      <td>...</td>\n",
       "      <td>16.045120</td>\n",
       "      <td>15.637882</td>\n",
       "      <td>2.144069</td>\n",
       "      <td>0.443838</td>\n",
       "      <td>6460.139952</td>\n",
       "      <td>3379.065104</td>\n",
       "      <td>50.764684</td>\n",
       "      <td>104.391919</td>\n",
       "      <td>186.513844</td>\n",
       "      <td>7.352667</td>\n",
       "    </tr>\n",
       "    <tr>\n",
       "      <th>min</th>\n",
       "      <td>1.000000</td>\n",
       "      <td>0.000000</td>\n",
       "      <td>0.000000</td>\n",
       "      <td>0.000000</td>\n",
       "      <td>0.000000</td>\n",
       "      <td>0.000000</td>\n",
       "      <td>0.00000</td>\n",
       "      <td>0.000000</td>\n",
       "      <td>0.000000</td>\n",
       "      <td>0.000000</td>\n",
       "      <td>...</td>\n",
       "      <td>0.000000</td>\n",
       "      <td>0.000000</td>\n",
       "      <td>0.000000</td>\n",
       "      <td>0.000000</td>\n",
       "      <td>1000.000000</td>\n",
       "      <td>0.000000</td>\n",
       "      <td>-194.000000</td>\n",
       "      <td>20.000000</td>\n",
       "      <td>0.000000</td>\n",
       "      <td>2.000000</td>\n",
       "    </tr>\n",
       "    <tr>\n",
       "      <th>25%</th>\n",
       "      <td>1.000000</td>\n",
       "      <td>0.000000</td>\n",
       "      <td>2.000000</td>\n",
       "      <td>1.000000</td>\n",
       "      <td>1.000000</td>\n",
       "      <td>1.000000</td>\n",
       "      <td>13.45000</td>\n",
       "      <td>21.000000</td>\n",
       "      <td>3.200000</td>\n",
       "      <td>6.000000</td>\n",
       "      <td>...</td>\n",
       "      <td>9.000000</td>\n",
       "      <td>9.000000</td>\n",
       "      <td>0.000000</td>\n",
       "      <td>0.000000</td>\n",
       "      <td>3000.000000</td>\n",
       "      <td>0.000000</td>\n",
       "      <td>-31.000000</td>\n",
       "      <td>54.000000</td>\n",
       "      <td>98.740000</td>\n",
       "      <td>14.000000</td>\n",
       "    </tr>\n",
       "    <tr>\n",
       "      <th>50%</th>\n",
       "      <td>1.000000</td>\n",
       "      <td>1.000000</td>\n",
       "      <td>10.000000</td>\n",
       "      <td>10.000000</td>\n",
       "      <td>2.000000</td>\n",
       "      <td>4.000000</td>\n",
       "      <td>19.27500</td>\n",
       "      <td>53.000000</td>\n",
       "      <td>3.400000</td>\n",
       "      <td>9.000000</td>\n",
       "      <td>...</td>\n",
       "      <td>15.000000</td>\n",
       "      <td>14.000000</td>\n",
       "      <td>0.000000</td>\n",
       "      <td>0.000000</td>\n",
       "      <td>5000.000000</td>\n",
       "      <td>1108.440000</td>\n",
       "      <td>0.000000</td>\n",
       "      <td>90.000000</td>\n",
       "      <td>172.600000</td>\n",
       "      <td>19.000000</td>\n",
       "    </tr>\n",
       "    <tr>\n",
       "      <th>75%</th>\n",
       "      <td>1.000000</td>\n",
       "      <td>3.000000</td>\n",
       "      <td>20.000000</td>\n",
       "      <td>26.000000</td>\n",
       "      <td>2.000000</td>\n",
       "      <td>4.000000</td>\n",
       "      <td>26.90000</td>\n",
       "      <td>112.000000</td>\n",
       "      <td>3.600000</td>\n",
       "      <td>13.000000</td>\n",
       "      <td>...</td>\n",
       "      <td>28.000000</td>\n",
       "      <td>27.000000</td>\n",
       "      <td>0.000000</td>\n",
       "      <td>0.000000</td>\n",
       "      <td>9500.000000</td>\n",
       "      <td>3408.750000</td>\n",
       "      <td>32.000000</td>\n",
       "      <td>160.000000</td>\n",
       "      <td>300.947500</td>\n",
       "      <td>24.000000</td>\n",
       "    </tr>\n",
       "    <tr>\n",
       "      <th>max</th>\n",
       "      <td>3.000000</td>\n",
       "      <td>20.000000</td>\n",
       "      <td>51.000000</td>\n",
       "      <td>67.000000</td>\n",
       "      <td>7.000000</td>\n",
       "      <td>7.000000</td>\n",
       "      <td>48.00000</td>\n",
       "      <td>755.000000</td>\n",
       "      <td>4.400000</td>\n",
       "      <td>59.000000</td>\n",
       "      <td>...</td>\n",
       "      <td>120.000000</td>\n",
       "      <td>111.000000</td>\n",
       "      <td>42.000000</td>\n",
       "      <td>11.000000</td>\n",
       "      <td>60001.000000</td>\n",
       "      <td>22586.670000</td>\n",
       "      <td>257.000000</td>\n",
       "      <td>700.000000</td>\n",
       "      <td>2153.380000</td>\n",
       "      <td>64.000000</td>\n",
       "    </tr>\n",
       "  </tbody>\n",
       "</table>\n",
       "<p>8 rows × 41 columns</p>\n",
       "</div>"
      ],
      "text/plain": [
       "                 C1            C2            C3            C4            C5  \\\n",
       "count  33050.000000  33050.000000  33050.000000  33050.000000  33050.000000   \n",
       "mean       1.119818      2.403873     12.856097     14.437398      1.719395   \n",
       "std        0.399382      3.399024     12.013457     15.527474      1.320860   \n",
       "min        1.000000      0.000000      0.000000      0.000000      0.000000   \n",
       "25%        1.000000      0.000000      2.000000      1.000000      1.000000   \n",
       "50%        1.000000      1.000000     10.000000     10.000000      2.000000   \n",
       "75%        1.000000      3.000000     20.000000     26.000000      2.000000   \n",
       "max        3.000000     20.000000     51.000000     67.000000      7.000000   \n",
       "\n",
       "                 C7           N1            N2            N3            N4  \\\n",
       "count  33050.000000  33050.00000  28438.000000  32685.000000  28444.000000   \n",
       "mean       3.124932     19.97653     81.342710      3.359361      9.574075   \n",
       "std        2.158905      8.11087     85.397795      0.411040      5.584756   \n",
       "min        0.000000      0.00000      0.000000      0.000000      0.000000   \n",
       "25%        1.000000     13.45000     21.000000      3.200000      6.000000   \n",
       "50%        4.000000     19.27500     53.000000      3.400000      9.000000   \n",
       "75%        4.000000     26.90000    112.000000      3.600000     13.000000   \n",
       "max        7.000000     48.00000    755.000000      4.400000     59.000000   \n",
       "\n",
       "       ...          N26          N27          N28          N29           N30  \\\n",
       "count  ...  6271.000000  6271.000000  6271.000000  6271.000000   6271.000000   \n",
       "mean   ...    20.084197    19.512199     0.526391     0.045288   7192.813526   \n",
       "std    ...    16.045120    15.637882     2.144069     0.443838   6460.139952   \n",
       "min    ...     0.000000     0.000000     0.000000     0.000000   1000.000000   \n",
       "25%    ...     9.000000     9.000000     0.000000     0.000000   3000.000000   \n",
       "50%    ...    15.000000    14.000000     0.000000     0.000000   5000.000000   \n",
       "75%    ...    28.000000    27.000000     0.000000     0.000000   9500.000000   \n",
       "max    ...   120.000000   111.000000    42.000000    11.000000  60001.000000   \n",
       "\n",
       "                N31          N32           N33           N34           N35  \n",
       "count   6271.000000  6220.000000  33050.000000  33050.000000  32623.000000  \n",
       "mean    2379.621620     0.744373    125.629394    224.313536     19.587254  \n",
       "std     3379.065104    50.764684    104.391919    186.513844      7.352667  \n",
       "min        0.000000  -194.000000     20.000000      0.000000      2.000000  \n",
       "25%        0.000000   -31.000000     54.000000     98.740000     14.000000  \n",
       "50%     1108.440000     0.000000     90.000000    172.600000     19.000000  \n",
       "75%     3408.750000    32.000000    160.000000    300.947500     24.000000  \n",
       "max    22586.670000   257.000000    700.000000   2153.380000     64.000000  \n",
       "\n",
       "[8 rows x 41 columns]"
      ]
     },
     "execution_count": 7,
     "metadata": {},
     "output_type": "execute_result"
    }
   ],
   "source": [
    "X_train.describe()"
   ]
  },
  {
   "cell_type": "code",
   "execution_count": 8,
   "metadata": {},
   "outputs": [
    {
     "data": {
      "text/html": [
       "<div>\n",
       "<style scoped>\n",
       "    .dataframe tbody tr th:only-of-type {\n",
       "        vertical-align: middle;\n",
       "    }\n",
       "\n",
       "    .dataframe tbody tr th {\n",
       "        vertical-align: top;\n",
       "    }\n",
       "\n",
       "    .dataframe thead th {\n",
       "        text-align: right;\n",
       "    }\n",
       "</style>\n",
       "<table border=\"1\" class=\"dataframe\">\n",
       "  <thead>\n",
       "    <tr style=\"text-align: right;\">\n",
       "      <th></th>\n",
       "      <th>Unique_ID</th>\n",
       "      <th>C1</th>\n",
       "      <th>C2</th>\n",
       "      <th>C3</th>\n",
       "      <th>C4</th>\n",
       "      <th>C5</th>\n",
       "      <th>C6</th>\n",
       "      <th>C7</th>\n",
       "      <th>C8</th>\n",
       "      <th>N1</th>\n",
       "      <th>...</th>\n",
       "      <th>N26</th>\n",
       "      <th>N27</th>\n",
       "      <th>N28</th>\n",
       "      <th>N29</th>\n",
       "      <th>N30</th>\n",
       "      <th>N31</th>\n",
       "      <th>N32</th>\n",
       "      <th>N33</th>\n",
       "      <th>N34</th>\n",
       "      <th>N35</th>\n",
       "    </tr>\n",
       "  </thead>\n",
       "  <tbody>\n",
       "    <tr>\n",
       "      <th>0</th>\n",
       "      <td>Candidate_5926</td>\n",
       "      <td>1</td>\n",
       "      <td>0</td>\n",
       "      <td>11</td>\n",
       "      <td>31</td>\n",
       "      <td>0</td>\n",
       "      <td>False</td>\n",
       "      <td>0</td>\n",
       "      <td>True</td>\n",
       "      <td>23.75</td>\n",
       "      <td>...</td>\n",
       "      <td>NaN</td>\n",
       "      <td>NaN</td>\n",
       "      <td>NaN</td>\n",
       "      <td>NaN</td>\n",
       "      <td>NaN</td>\n",
       "      <td>NaN</td>\n",
       "      <td>NaN</td>\n",
       "      <td>58.0</td>\n",
       "      <td>113.39</td>\n",
       "      <td>12.0</td>\n",
       "    </tr>\n",
       "    <tr>\n",
       "      <th>1</th>\n",
       "      <td>Candidate_48134</td>\n",
       "      <td>1</td>\n",
       "      <td>4</td>\n",
       "      <td>2</td>\n",
       "      <td>66</td>\n",
       "      <td>2</td>\n",
       "      <td>False</td>\n",
       "      <td>1</td>\n",
       "      <td>True</td>\n",
       "      <td>11.05</td>\n",
       "      <td>...</td>\n",
       "      <td>NaN</td>\n",
       "      <td>NaN</td>\n",
       "      <td>NaN</td>\n",
       "      <td>NaN</td>\n",
       "      <td>NaN</td>\n",
       "      <td>NaN</td>\n",
       "      <td>NaN</td>\n",
       "      <td>160.0</td>\n",
       "      <td>262.10</td>\n",
       "      <td>17.0</td>\n",
       "    </tr>\n",
       "    <tr>\n",
       "      <th>2</th>\n",
       "      <td>Candidate_51717</td>\n",
       "      <td>1</td>\n",
       "      <td>0</td>\n",
       "      <td>19</td>\n",
       "      <td>2</td>\n",
       "      <td>0</td>\n",
       "      <td>False</td>\n",
       "      <td>0</td>\n",
       "      <td>True</td>\n",
       "      <td>29.00</td>\n",
       "      <td>...</td>\n",
       "      <td>NaN</td>\n",
       "      <td>NaN</td>\n",
       "      <td>NaN</td>\n",
       "      <td>NaN</td>\n",
       "      <td>NaN</td>\n",
       "      <td>NaN</td>\n",
       "      <td>NaN</td>\n",
       "      <td>24.0</td>\n",
       "      <td>50.29</td>\n",
       "      <td>18.0</td>\n",
       "    </tr>\n",
       "    <tr>\n",
       "      <th>3</th>\n",
       "      <td>Candidate_26401</td>\n",
       "      <td>1</td>\n",
       "      <td>1</td>\n",
       "      <td>16</td>\n",
       "      <td>47</td>\n",
       "      <td>1</td>\n",
       "      <td>False</td>\n",
       "      <td>4</td>\n",
       "      <td>True</td>\n",
       "      <td>17.99</td>\n",
       "      <td>...</td>\n",
       "      <td>NaN</td>\n",
       "      <td>NaN</td>\n",
       "      <td>NaN</td>\n",
       "      <td>NaN</td>\n",
       "      <td>NaN</td>\n",
       "      <td>NaN</td>\n",
       "      <td>NaN</td>\n",
       "      <td>70.0</td>\n",
       "      <td>126.52</td>\n",
       "      <td>27.0</td>\n",
       "    </tr>\n",
       "    <tr>\n",
       "      <th>4</th>\n",
       "      <td>Candidate_34872</td>\n",
       "      <td>1</td>\n",
       "      <td>1</td>\n",
       "      <td>13</td>\n",
       "      <td>1</td>\n",
       "      <td>1</td>\n",
       "      <td>True</td>\n",
       "      <td>6</td>\n",
       "      <td>True</td>\n",
       "      <td>27.50</td>\n",
       "      <td>...</td>\n",
       "      <td>NaN</td>\n",
       "      <td>NaN</td>\n",
       "      <td>NaN</td>\n",
       "      <td>NaN</td>\n",
       "      <td>NaN</td>\n",
       "      <td>NaN</td>\n",
       "      <td>NaN</td>\n",
       "      <td>100.0</td>\n",
       "      <td>205.47</td>\n",
       "      <td>21.0</td>\n",
       "    </tr>\n",
       "  </tbody>\n",
       "</table>\n",
       "<p>5 rows × 44 columns</p>\n",
       "</div>"
      ],
      "text/plain": [
       "         Unique_ID  C1  C2  C3  C4  C5     C6  C7    C8     N1  ...  N26  N27  \\\n",
       "0   Candidate_5926   1   0  11  31   0  False   0  True  23.75  ...  NaN  NaN   \n",
       "1  Candidate_48134   1   4   2  66   2  False   1  True  11.05  ...  NaN  NaN   \n",
       "2  Candidate_51717   1   0  19   2   0  False   0  True  29.00  ...  NaN  NaN   \n",
       "3  Candidate_26401   1   1  16  47   1  False   4  True  17.99  ...  NaN  NaN   \n",
       "4  Candidate_34872   1   1  13   1   1   True   6  True  27.50  ...  NaN  NaN   \n",
       "\n",
       "   N28  N29  N30  N31  N32    N33     N34   N35  \n",
       "0  NaN  NaN  NaN  NaN  NaN   58.0  113.39  12.0  \n",
       "1  NaN  NaN  NaN  NaN  NaN  160.0  262.10  17.0  \n",
       "2  NaN  NaN  NaN  NaN  NaN   24.0   50.29  18.0  \n",
       "3  NaN  NaN  NaN  NaN  NaN   70.0  126.52  27.0  \n",
       "4  NaN  NaN  NaN  NaN  NaN  100.0  205.47  21.0  \n",
       "\n",
       "[5 rows x 44 columns]"
      ]
     },
     "execution_count": 8,
     "metadata": {},
     "output_type": "execute_result"
    }
   ],
   "source": [
    "X_train.head()"
   ]
  },
  {
   "cell_type": "code",
   "execution_count": 9,
   "metadata": {},
   "outputs": [],
   "source": [
    "## Data Cleaning and Processing"
   ]
  },
  {
   "cell_type": "code",
   "execution_count": 10,
   "metadata": {},
   "outputs": [],
   "source": [
    "# Counting the number of null/Nan values in each column"
   ]
  },
  {
   "cell_type": "code",
   "execution_count": 11,
   "metadata": {},
   "outputs": [
    {
     "data": {
      "text/plain": [
       "Unique_ID        0\n",
       "C1               0\n",
       "C2               0\n",
       "C3               0\n",
       "C4               0\n",
       "C5               0\n",
       "C6               0\n",
       "C7               0\n",
       "C8               0\n",
       "N1               0\n",
       "N2            4612\n",
       "N3             365\n",
       "N4            4606\n",
       "N5            4606\n",
       "N6             365\n",
       "N7             427\n",
       "N8               0\n",
       "N9               0\n",
       "N10            427\n",
       "N10.1          427\n",
       "N11            716\n",
       "N12           4614\n",
       "N14            608\n",
       "N15            427\n",
       "N16           4606\n",
       "N17           4606\n",
       "N18           4606\n",
       "N19           4571\n",
       "N20           4571\n",
       "N21           4571\n",
       "N22           4571\n",
       "N23           2486\n",
       "N24              0\n",
       "N25          26779\n",
       "N26          26779\n",
       "N27          26779\n",
       "N28          26779\n",
       "N29          26779\n",
       "N30          26779\n",
       "N31          26779\n",
       "N32          26830\n",
       "N33              0\n",
       "N34              0\n",
       "N35            427\n",
       "dtype: int64"
      ]
     },
     "execution_count": 11,
     "metadata": {},
     "output_type": "execute_result"
    }
   ],
   "source": [
    "X_train.isna().sum()"
   ]
  },
  {
   "cell_type": "code",
   "execution_count": 12,
   "metadata": {},
   "outputs": [],
   "source": [
    "#Checking for duplicates in the data"
   ]
  },
  {
   "cell_type": "code",
   "execution_count": 13,
   "metadata": {},
   "outputs": [
    {
     "data": {
      "text/plain": [
       "0        False\n",
       "1        False\n",
       "2        False\n",
       "3        False\n",
       "4        False\n",
       "         ...  \n",
       "33045    False\n",
       "33046    False\n",
       "33047    False\n",
       "33048    False\n",
       "33049    False\n",
       "Length: 33050, dtype: bool"
      ]
     },
     "execution_count": 13,
     "metadata": {},
     "output_type": "execute_result"
    }
   ],
   "source": [
    "X_train.duplicated()\n"
   ]
  },
  {
   "cell_type": "code",
   "execution_count": 14,
   "metadata": {},
   "outputs": [
    {
     "name": "stdout",
     "output_type": "stream",
     "text": [
      "0\n"
     ]
    }
   ],
   "source": [
    "print(X_train.duplicated().sum())"
   ]
  },
  {
   "cell_type": "code",
   "execution_count": 15,
   "metadata": {},
   "outputs": [],
   "source": [
    "# Checking for number of unique values present in the data"
   ]
  },
  {
   "cell_type": "code",
   "execution_count": 16,
   "metadata": {},
   "outputs": [
    {
     "data": {
      "text/plain": [
       "Unique_ID    33050\n",
       "C1               3\n",
       "C2              21\n",
       "C3              52\n",
       "C4              68\n",
       "C5               8\n",
       "C6               2\n",
       "C7               8\n",
       "C8               2\n",
       "N1            1985\n",
       "N2             504\n",
       "N3              26\n",
       "N4              51\n",
       "N5              46\n",
       "N6              26\n",
       "N7             108\n",
       "N8              44\n",
       "N9            2091\n",
       "N10             42\n",
       "N10.1           46\n",
       "N11             90\n",
       "N12           3288\n",
       "N14             96\n",
       "N15             19\n",
       "N16              6\n",
       "N17          16615\n",
       "N18            183\n",
       "N19          14098\n",
       "N20             94\n",
       "N21             97\n",
       "N22             17\n",
       "N23            777\n",
       "N24           5722\n",
       "N25              7\n",
       "N26             95\n",
       "N27             94\n",
       "N28             31\n",
       "N29             10\n",
       "N30            627\n",
       "N31           3966\n",
       "N32            324\n",
       "N33           1135\n",
       "N34          13390\n",
       "N35             60\n",
       "dtype: int64"
      ]
     },
     "execution_count": 16,
     "metadata": {},
     "output_type": "execute_result"
    }
   ],
   "source": [
    "X_train.nunique()"
   ]
  },
  {
   "cell_type": "code",
   "execution_count": 17,
   "metadata": {},
   "outputs": [],
   "source": [
    "# Drop all columns with 50% or more Nan values\n",
    "# I decided to drop columns with more than 50% Nan values since imputing entries in such a feature \n",
    "#would add a lot of bias to the data"
   ]
  },
  {
   "cell_type": "code",
   "execution_count": 18,
   "metadata": {},
   "outputs": [
    {
     "name": "stdout",
     "output_type": "stream",
     "text": [
      "16525.0\n"
     ]
    }
   ],
   "source": [
    "percentage=50\n",
    "nan_count_threshold=0.5*X_train.shape[0]\n",
    "print(nan_count_threshold)\n"
   ]
  },
  {
   "cell_type": "code",
   "execution_count": 19,
   "metadata": {},
   "outputs": [],
   "source": [
    "X_train.dropna( axis=1, \n",
    "                thresh=nan_count_threshold,inplace=True)"
   ]
  },
  {
   "cell_type": "code",
   "execution_count": 20,
   "metadata": {},
   "outputs": [],
   "source": [
    "# As we can see it dropped 8 columns"
   ]
  },
  {
   "cell_type": "code",
   "execution_count": 21,
   "metadata": {},
   "outputs": [
    {
     "data": {
      "text/plain": [
       "(33050, 36)"
      ]
     },
     "execution_count": 21,
     "metadata": {},
     "output_type": "execute_result"
    }
   ],
   "source": [
    "X_train.shape"
   ]
  },
  {
   "cell_type": "code",
   "execution_count": 22,
   "metadata": {},
   "outputs": [
    {
     "data": {
      "text/html": [
       "<div>\n",
       "<style scoped>\n",
       "    .dataframe tbody tr th:only-of-type {\n",
       "        vertical-align: middle;\n",
       "    }\n",
       "\n",
       "    .dataframe tbody tr th {\n",
       "        vertical-align: top;\n",
       "    }\n",
       "\n",
       "    .dataframe thead th {\n",
       "        text-align: right;\n",
       "    }\n",
       "</style>\n",
       "<table border=\"1\" class=\"dataframe\">\n",
       "  <thead>\n",
       "    <tr style=\"text-align: right;\">\n",
       "      <th></th>\n",
       "      <th>Unique_ID</th>\n",
       "      <th>C1</th>\n",
       "      <th>C2</th>\n",
       "      <th>C3</th>\n",
       "      <th>C4</th>\n",
       "      <th>C5</th>\n",
       "      <th>C6</th>\n",
       "      <th>C7</th>\n",
       "      <th>C8</th>\n",
       "      <th>N1</th>\n",
       "      <th>...</th>\n",
       "      <th>N18</th>\n",
       "      <th>N19</th>\n",
       "      <th>N20</th>\n",
       "      <th>N21</th>\n",
       "      <th>N22</th>\n",
       "      <th>N23</th>\n",
       "      <th>N24</th>\n",
       "      <th>N33</th>\n",
       "      <th>N34</th>\n",
       "      <th>N35</th>\n",
       "    </tr>\n",
       "  </thead>\n",
       "  <tbody>\n",
       "    <tr>\n",
       "      <th>0</th>\n",
       "      <td>Candidate_5926</td>\n",
       "      <td>1</td>\n",
       "      <td>0</td>\n",
       "      <td>11</td>\n",
       "      <td>31</td>\n",
       "      <td>0</td>\n",
       "      <td>False</td>\n",
       "      <td>0</td>\n",
       "      <td>True</td>\n",
       "      <td>23.75</td>\n",
       "      <td>...</td>\n",
       "      <td>NaN</td>\n",
       "      <td>NaN</td>\n",
       "      <td>NaN</td>\n",
       "      <td>NaN</td>\n",
       "      <td>NaN</td>\n",
       "      <td>27.816</td>\n",
       "      <td>1750.000000</td>\n",
       "      <td>58.0</td>\n",
       "      <td>113.39</td>\n",
       "      <td>12.0</td>\n",
       "    </tr>\n",
       "    <tr>\n",
       "      <th>1</th>\n",
       "      <td>Candidate_48134</td>\n",
       "      <td>1</td>\n",
       "      <td>4</td>\n",
       "      <td>2</td>\n",
       "      <td>66</td>\n",
       "      <td>2</td>\n",
       "      <td>False</td>\n",
       "      <td>1</td>\n",
       "      <td>True</td>\n",
       "      <td>11.05</td>\n",
       "      <td>...</td>\n",
       "      <td>0.06</td>\n",
       "      <td>25856.0</td>\n",
       "      <td>17.0</td>\n",
       "      <td>0.88</td>\n",
       "      <td>1.0</td>\n",
       "      <td>40.000</td>\n",
       "      <td>10833.333330</td>\n",
       "      <td>160.0</td>\n",
       "      <td>262.10</td>\n",
       "      <td>17.0</td>\n",
       "    </tr>\n",
       "    <tr>\n",
       "      <th>2</th>\n",
       "      <td>Candidate_51717</td>\n",
       "      <td>1</td>\n",
       "      <td>0</td>\n",
       "      <td>19</td>\n",
       "      <td>2</td>\n",
       "      <td>0</td>\n",
       "      <td>False</td>\n",
       "      <td>0</td>\n",
       "      <td>True</td>\n",
       "      <td>29.00</td>\n",
       "      <td>...</td>\n",
       "      <td>NaN</td>\n",
       "      <td>NaN</td>\n",
       "      <td>NaN</td>\n",
       "      <td>NaN</td>\n",
       "      <td>NaN</td>\n",
       "      <td>20.000</td>\n",
       "      <td>6250.000000</td>\n",
       "      <td>24.0</td>\n",
       "      <td>50.29</td>\n",
       "      <td>18.0</td>\n",
       "    </tr>\n",
       "    <tr>\n",
       "      <th>3</th>\n",
       "      <td>Candidate_26401</td>\n",
       "      <td>1</td>\n",
       "      <td>1</td>\n",
       "      <td>16</td>\n",
       "      <td>47</td>\n",
       "      <td>1</td>\n",
       "      <td>False</td>\n",
       "      <td>4</td>\n",
       "      <td>True</td>\n",
       "      <td>17.99</td>\n",
       "      <td>...</td>\n",
       "      <td>0.89</td>\n",
       "      <td>1006.0</td>\n",
       "      <td>6.0</td>\n",
       "      <td>1.00</td>\n",
       "      <td>0.0</td>\n",
       "      <td>26.000</td>\n",
       "      <td>2413.666667</td>\n",
       "      <td>70.0</td>\n",
       "      <td>126.52</td>\n",
       "      <td>27.0</td>\n",
       "    </tr>\n",
       "    <tr>\n",
       "      <th>4</th>\n",
       "      <td>Candidate_34872</td>\n",
       "      <td>1</td>\n",
       "      <td>1</td>\n",
       "      <td>13</td>\n",
       "      <td>1</td>\n",
       "      <td>1</td>\n",
       "      <td>True</td>\n",
       "      <td>6</td>\n",
       "      <td>True</td>\n",
       "      <td>27.50</td>\n",
       "      <td>...</td>\n",
       "      <td>0.97</td>\n",
       "      <td>3398.0</td>\n",
       "      <td>31.0</td>\n",
       "      <td>0.96</td>\n",
       "      <td>0.0</td>\n",
       "      <td>44.000</td>\n",
       "      <td>7666.666667</td>\n",
       "      <td>100.0</td>\n",
       "      <td>205.47</td>\n",
       "      <td>21.0</td>\n",
       "    </tr>\n",
       "  </tbody>\n",
       "</table>\n",
       "<p>5 rows × 36 columns</p>\n",
       "</div>"
      ],
      "text/plain": [
       "         Unique_ID  C1  C2  C3  C4  C5     C6  C7    C8     N1  ...   N18  \\\n",
       "0   Candidate_5926   1   0  11  31   0  False   0  True  23.75  ...   NaN   \n",
       "1  Candidate_48134   1   4   2  66   2  False   1  True  11.05  ...  0.06   \n",
       "2  Candidate_51717   1   0  19   2   0  False   0  True  29.00  ...   NaN   \n",
       "3  Candidate_26401   1   1  16  47   1  False   4  True  17.99  ...  0.89   \n",
       "4  Candidate_34872   1   1  13   1   1   True   6  True  27.50  ...  0.97   \n",
       "\n",
       "       N19   N20   N21  N22     N23           N24    N33     N34   N35  \n",
       "0      NaN   NaN   NaN  NaN  27.816   1750.000000   58.0  113.39  12.0  \n",
       "1  25856.0  17.0  0.88  1.0  40.000  10833.333330  160.0  262.10  17.0  \n",
       "2      NaN   NaN   NaN  NaN  20.000   6250.000000   24.0   50.29  18.0  \n",
       "3   1006.0   6.0  1.00  0.0  26.000   2413.666667   70.0  126.52  27.0  \n",
       "4   3398.0  31.0  0.96  0.0  44.000   7666.666667  100.0  205.47  21.0  \n",
       "\n",
       "[5 rows x 36 columns]"
      ]
     },
     "execution_count": 22,
     "metadata": {},
     "output_type": "execute_result"
    }
   ],
   "source": [
    "X_train.head()"
   ]
  },
  {
   "cell_type": "code",
   "execution_count": 23,
   "metadata": {},
   "outputs": [
    {
     "data": {
      "text/html": [
       "<div>\n",
       "<style scoped>\n",
       "    .dataframe tbody tr th:only-of-type {\n",
       "        vertical-align: middle;\n",
       "    }\n",
       "\n",
       "    .dataframe tbody tr th {\n",
       "        vertical-align: top;\n",
       "    }\n",
       "\n",
       "    .dataframe thead th {\n",
       "        text-align: right;\n",
       "    }\n",
       "</style>\n",
       "<table border=\"1\" class=\"dataframe\">\n",
       "  <thead>\n",
       "    <tr style=\"text-align: right;\">\n",
       "      <th></th>\n",
       "      <th>C1</th>\n",
       "      <th>C2</th>\n",
       "      <th>C3</th>\n",
       "      <th>C4</th>\n",
       "      <th>C5</th>\n",
       "      <th>C7</th>\n",
       "      <th>N1</th>\n",
       "      <th>N2</th>\n",
       "      <th>N3</th>\n",
       "      <th>N4</th>\n",
       "      <th>...</th>\n",
       "      <th>N18</th>\n",
       "      <th>N19</th>\n",
       "      <th>N20</th>\n",
       "      <th>N21</th>\n",
       "      <th>N22</th>\n",
       "      <th>N23</th>\n",
       "      <th>N24</th>\n",
       "      <th>N33</th>\n",
       "      <th>N34</th>\n",
       "      <th>N35</th>\n",
       "    </tr>\n",
       "  </thead>\n",
       "  <tbody>\n",
       "    <tr>\n",
       "      <th>count</th>\n",
       "      <td>33050.000000</td>\n",
       "      <td>33050.000000</td>\n",
       "      <td>33050.000000</td>\n",
       "      <td>33050.000000</td>\n",
       "      <td>33050.000000</td>\n",
       "      <td>33050.000000</td>\n",
       "      <td>33050.00000</td>\n",
       "      <td>28438.000000</td>\n",
       "      <td>32685.000000</td>\n",
       "      <td>28444.000000</td>\n",
       "      <td>...</td>\n",
       "      <td>28444.000000</td>\n",
       "      <td>28479.000000</td>\n",
       "      <td>28479.000000</td>\n",
       "      <td>28479.000000</td>\n",
       "      <td>28479.000000</td>\n",
       "      <td>30564.000000</td>\n",
       "      <td>33050.000000</td>\n",
       "      <td>33050.000000</td>\n",
       "      <td>33050.000000</td>\n",
       "      <td>32623.000000</td>\n",
       "    </tr>\n",
       "    <tr>\n",
       "      <th>mean</th>\n",
       "      <td>1.119818</td>\n",
       "      <td>2.403873</td>\n",
       "      <td>12.856097</td>\n",
       "      <td>14.437398</td>\n",
       "      <td>1.719395</td>\n",
       "      <td>3.124932</td>\n",
       "      <td>19.97653</td>\n",
       "      <td>81.342710</td>\n",
       "      <td>3.359361</td>\n",
       "      <td>9.574075</td>\n",
       "      <td>...</td>\n",
       "      <td>0.528907</td>\n",
       "      <td>11037.365322</td>\n",
       "      <td>21.764142</td>\n",
       "      <td>0.857199</td>\n",
       "      <td>0.906422</td>\n",
       "      <td>58.433363</td>\n",
       "      <td>5050.306727</td>\n",
       "      <td>125.629394</td>\n",
       "      <td>224.313536</td>\n",
       "      <td>19.587254</td>\n",
       "    </tr>\n",
       "    <tr>\n",
       "      <th>std</th>\n",
       "      <td>0.399382</td>\n",
       "      <td>3.399024</td>\n",
       "      <td>12.013457</td>\n",
       "      <td>15.527474</td>\n",
       "      <td>1.320860</td>\n",
       "      <td>2.158905</td>\n",
       "      <td>8.11087</td>\n",
       "      <td>85.397795</td>\n",
       "      <td>0.411040</td>\n",
       "      <td>5.584756</td>\n",
       "      <td>...</td>\n",
       "      <td>0.350046</td>\n",
       "      <td>22052.222523</td>\n",
       "      <td>12.438568</td>\n",
       "      <td>0.173017</td>\n",
       "      <td>1.227818</td>\n",
       "      <td>150.660621</td>\n",
       "      <td>6237.726330</td>\n",
       "      <td>104.391919</td>\n",
       "      <td>186.513844</td>\n",
       "      <td>7.352667</td>\n",
       "    </tr>\n",
       "    <tr>\n",
       "      <th>min</th>\n",
       "      <td>1.000000</td>\n",
       "      <td>0.000000</td>\n",
       "      <td>0.000000</td>\n",
       "      <td>0.000000</td>\n",
       "      <td>0.000000</td>\n",
       "      <td>0.000000</td>\n",
       "      <td>0.00000</td>\n",
       "      <td>0.000000</td>\n",
       "      <td>0.000000</td>\n",
       "      <td>0.000000</td>\n",
       "      <td>...</td>\n",
       "      <td>0.000000</td>\n",
       "      <td>0.000000</td>\n",
       "      <td>0.000000</td>\n",
       "      <td>0.000000</td>\n",
       "      <td>0.000000</td>\n",
       "      <td>0.000000</td>\n",
       "      <td>0.000000</td>\n",
       "      <td>20.000000</td>\n",
       "      <td>0.000000</td>\n",
       "      <td>2.000000</td>\n",
       "    </tr>\n",
       "    <tr>\n",
       "      <th>25%</th>\n",
       "      <td>1.000000</td>\n",
       "      <td>0.000000</td>\n",
       "      <td>2.000000</td>\n",
       "      <td>1.000000</td>\n",
       "      <td>1.000000</td>\n",
       "      <td>1.000000</td>\n",
       "      <td>13.45000</td>\n",
       "      <td>21.000000</td>\n",
       "      <td>3.200000</td>\n",
       "      <td>6.000000</td>\n",
       "      <td>...</td>\n",
       "      <td>0.210000</td>\n",
       "      <td>523.000000</td>\n",
       "      <td>13.000000</td>\n",
       "      <td>0.770000</td>\n",
       "      <td>0.000000</td>\n",
       "      <td>26.000000</td>\n",
       "      <td>2833.333333</td>\n",
       "      <td>54.000000</td>\n",
       "      <td>98.740000</td>\n",
       "      <td>14.000000</td>\n",
       "    </tr>\n",
       "    <tr>\n",
       "      <th>50%</th>\n",
       "      <td>1.000000</td>\n",
       "      <td>1.000000</td>\n",
       "      <td>10.000000</td>\n",
       "      <td>10.000000</td>\n",
       "      <td>2.000000</td>\n",
       "      <td>4.000000</td>\n",
       "      <td>19.27500</td>\n",
       "      <td>53.000000</td>\n",
       "      <td>3.400000</td>\n",
       "      <td>9.000000</td>\n",
       "      <td>...</td>\n",
       "      <td>0.560000</td>\n",
       "      <td>3352.000000</td>\n",
       "      <td>20.000000</td>\n",
       "      <td>0.920000</td>\n",
       "      <td>1.000000</td>\n",
       "      <td>40.000000</td>\n",
       "      <td>4166.666667</td>\n",
       "      <td>90.000000</td>\n",
       "      <td>172.600000</td>\n",
       "      <td>19.000000</td>\n",
       "    </tr>\n",
       "    <tr>\n",
       "      <th>75%</th>\n",
       "      <td>1.000000</td>\n",
       "      <td>3.000000</td>\n",
       "      <td>20.000000</td>\n",
       "      <td>26.000000</td>\n",
       "      <td>2.000000</td>\n",
       "      <td>4.000000</td>\n",
       "      <td>26.90000</td>\n",
       "      <td>112.000000</td>\n",
       "      <td>3.600000</td>\n",
       "      <td>13.000000</td>\n",
       "      <td>...</td>\n",
       "      <td>0.840000</td>\n",
       "      <td>12285.000000</td>\n",
       "      <td>29.000000</td>\n",
       "      <td>1.000000</td>\n",
       "      <td>1.000000</td>\n",
       "      <td>60.000000</td>\n",
       "      <td>6250.000000</td>\n",
       "      <td>160.000000</td>\n",
       "      <td>300.947500</td>\n",
       "      <td>24.000000</td>\n",
       "    </tr>\n",
       "    <tr>\n",
       "      <th>max</th>\n",
       "      <td>3.000000</td>\n",
       "      <td>20.000000</td>\n",
       "      <td>51.000000</td>\n",
       "      <td>67.000000</td>\n",
       "      <td>7.000000</td>\n",
       "      <td>7.000000</td>\n",
       "      <td>48.00000</td>\n",
       "      <td>755.000000</td>\n",
       "      <td>4.400000</td>\n",
       "      <td>59.000000</td>\n",
       "      <td>...</td>\n",
       "      <td>5.830000</td>\n",
       "      <td>646285.000000</td>\n",
       "      <td>114.000000</td>\n",
       "      <td>1.000000</td>\n",
       "      <td>20.000000</td>\n",
       "      <td>2002.000000</td>\n",
       "      <td>618547.833300</td>\n",
       "      <td>700.000000</td>\n",
       "      <td>2153.380000</td>\n",
       "      <td>64.000000</td>\n",
       "    </tr>\n",
       "  </tbody>\n",
       "</table>\n",
       "<p>8 rows × 33 columns</p>\n",
       "</div>"
      ],
      "text/plain": [
       "                 C1            C2            C3            C4            C5  \\\n",
       "count  33050.000000  33050.000000  33050.000000  33050.000000  33050.000000   \n",
       "mean       1.119818      2.403873     12.856097     14.437398      1.719395   \n",
       "std        0.399382      3.399024     12.013457     15.527474      1.320860   \n",
       "min        1.000000      0.000000      0.000000      0.000000      0.000000   \n",
       "25%        1.000000      0.000000      2.000000      1.000000      1.000000   \n",
       "50%        1.000000      1.000000     10.000000     10.000000      2.000000   \n",
       "75%        1.000000      3.000000     20.000000     26.000000      2.000000   \n",
       "max        3.000000     20.000000     51.000000     67.000000      7.000000   \n",
       "\n",
       "                 C7           N1            N2            N3            N4  \\\n",
       "count  33050.000000  33050.00000  28438.000000  32685.000000  28444.000000   \n",
       "mean       3.124932     19.97653     81.342710      3.359361      9.574075   \n",
       "std        2.158905      8.11087     85.397795      0.411040      5.584756   \n",
       "min        0.000000      0.00000      0.000000      0.000000      0.000000   \n",
       "25%        1.000000     13.45000     21.000000      3.200000      6.000000   \n",
       "50%        4.000000     19.27500     53.000000      3.400000      9.000000   \n",
       "75%        4.000000     26.90000    112.000000      3.600000     13.000000   \n",
       "max        7.000000     48.00000    755.000000      4.400000     59.000000   \n",
       "\n",
       "       ...           N18            N19           N20           N21  \\\n",
       "count  ...  28444.000000   28479.000000  28479.000000  28479.000000   \n",
       "mean   ...      0.528907   11037.365322     21.764142      0.857199   \n",
       "std    ...      0.350046   22052.222523     12.438568      0.173017   \n",
       "min    ...      0.000000       0.000000      0.000000      0.000000   \n",
       "25%    ...      0.210000     523.000000     13.000000      0.770000   \n",
       "50%    ...      0.560000    3352.000000     20.000000      0.920000   \n",
       "75%    ...      0.840000   12285.000000     29.000000      1.000000   \n",
       "max    ...      5.830000  646285.000000    114.000000      1.000000   \n",
       "\n",
       "                N22           N23            N24           N33           N34  \\\n",
       "count  28479.000000  30564.000000   33050.000000  33050.000000  33050.000000   \n",
       "mean       0.906422     58.433363    5050.306727    125.629394    224.313536   \n",
       "std        1.227818    150.660621    6237.726330    104.391919    186.513844   \n",
       "min        0.000000      0.000000       0.000000     20.000000      0.000000   \n",
       "25%        0.000000     26.000000    2833.333333     54.000000     98.740000   \n",
       "50%        1.000000     40.000000    4166.666667     90.000000    172.600000   \n",
       "75%        1.000000     60.000000    6250.000000    160.000000    300.947500   \n",
       "max       20.000000   2002.000000  618547.833300    700.000000   2153.380000   \n",
       "\n",
       "                N35  \n",
       "count  32623.000000  \n",
       "mean      19.587254  \n",
       "std        7.352667  \n",
       "min        2.000000  \n",
       "25%       14.000000  \n",
       "50%       19.000000  \n",
       "75%       24.000000  \n",
       "max       64.000000  \n",
       "\n",
       "[8 rows x 33 columns]"
      ]
     },
     "execution_count": 23,
     "metadata": {},
     "output_type": "execute_result"
    }
   ],
   "source": [
    "X_train.describe()"
   ]
  },
  {
   "cell_type": "code",
   "execution_count": 24,
   "metadata": {},
   "outputs": [],
   "source": [
    "# There are still a lot of missing values in the data , lets do something about it\n",
    "#removing rows from X_train if more than 50% is nan values"
   ]
  },
  {
   "cell_type": "code",
   "execution_count": 25,
   "metadata": {},
   "outputs": [
    {
     "data": {
      "text/plain": [
       "(33050, 36)"
      ]
     },
     "execution_count": 25,
     "metadata": {},
     "output_type": "execute_result"
    }
   ],
   "source": [
    "X_train.shape"
   ]
  },
  {
   "cell_type": "code",
   "execution_count": 26,
   "metadata": {},
   "outputs": [
    {
     "name": "stdout",
     "output_type": "stream",
     "text": [
      "18.0\n"
     ]
    }
   ],
   "source": [
    "percentage=50\n",
    "nan_count_threshold=0.5*X_train.shape[1]\n",
    "print(nan_count_threshold)\n"
   ]
  },
  {
   "cell_type": "code",
   "execution_count": 27,
   "metadata": {},
   "outputs": [],
   "source": [
    "X_train.dropna(axis=0,thresh=nan_count_threshold,inplace=True)"
   ]
  },
  {
   "cell_type": "code",
   "execution_count": 28,
   "metadata": {},
   "outputs": [
    {
     "data": {
      "text/plain": [
       "Unique_ID       0\n",
       "C1              0\n",
       "C2              0\n",
       "C3              0\n",
       "C4              0\n",
       "C5              0\n",
       "C6              0\n",
       "C7              0\n",
       "C8              0\n",
       "N1              0\n",
       "N2           4243\n",
       "N3              0\n",
       "N4           4237\n",
       "N5           4237\n",
       "N6              0\n",
       "N7             58\n",
       "N8              0\n",
       "N9              0\n",
       "N10            58\n",
       "N10.1          58\n",
       "N11           347\n",
       "N12          4245\n",
       "N14           239\n",
       "N15            58\n",
       "N16          4237\n",
       "N17          4237\n",
       "N18          4237\n",
       "N19          4202\n",
       "N20          4202\n",
       "N21          4202\n",
       "N22          4202\n",
       "N23          2480\n",
       "N24             0\n",
       "N33             0\n",
       "N34             0\n",
       "N35            58\n",
       "dtype: int64"
      ]
     },
     "execution_count": 28,
     "metadata": {},
     "output_type": "execute_result"
    }
   ],
   "source": [
    "X_train.isna().sum()"
   ]
  },
  {
   "cell_type": "code",
   "execution_count": 29,
   "metadata": {},
   "outputs": [],
   "source": [
    "##FILLING VALUES OF COLUMN WITH LESS THAN EQUAL TO 100 MISSING VALUES WITH MEAN. I chose the\n",
    "#number 100 after looking at the nan count values for each column"
   ]
  },
  {
   "cell_type": "code",
   "execution_count": 33,
   "metadata": {},
   "outputs": [],
   "source": [
    "threshold=100\n",
    "for col in X_train.columns:\n",
    "    if X_train[col].isna().any():\n",
    "        if X_train[col].isna().sum()<=threshold:\n",
    "            mean=X_train[col].mean()\n",
    "            X_train[col].fillna(mean,inplace=True)"
   ]
  },
  {
   "cell_type": "code",
   "execution_count": 34,
   "metadata": {},
   "outputs": [
    {
     "data": {
      "text/plain": [
       "Unique_ID       0\n",
       "C1              0\n",
       "C2              0\n",
       "C3              0\n",
       "C4              0\n",
       "C5              0\n",
       "C6              0\n",
       "C7              0\n",
       "C8              0\n",
       "N1              0\n",
       "N2           4243\n",
       "N3              0\n",
       "N4           4237\n",
       "N5           4237\n",
       "N6              0\n",
       "N7              0\n",
       "N8              0\n",
       "N9              0\n",
       "N10             0\n",
       "N10.1           0\n",
       "N11           347\n",
       "N12          4245\n",
       "N14           239\n",
       "N15             0\n",
       "N16          4237\n",
       "N17          4237\n",
       "N18          4237\n",
       "N19          4202\n",
       "N20          4202\n",
       "N21          4202\n",
       "N22          4202\n",
       "N23          2480\n",
       "N24             0\n",
       "N33             0\n",
       "N34             0\n",
       "N35             0\n",
       "dtype: int64"
      ]
     },
     "execution_count": 34,
     "metadata": {},
     "output_type": "execute_result"
    }
   ],
   "source": [
    "X_train.isna().sum()"
   ]
  },
  {
   "cell_type": "code",
   "execution_count": 35,
   "metadata": {},
   "outputs": [],
   "source": [
    "# Removing all NaN values in the data for testing different models"
   ]
  },
  {
   "cell_type": "code",
   "execution_count": 36,
   "metadata": {},
   "outputs": [],
   "source": [
    "X_train.dropna(inplace=True)"
   ]
  },
  {
   "cell_type": "code",
   "execution_count": 37,
   "metadata": {},
   "outputs": [],
   "source": [
    "# Here we can see that we are left with 26000+ rows of data with 36 features each"
   ]
  },
  {
   "cell_type": "code",
   "execution_count": 38,
   "metadata": {},
   "outputs": [
    {
     "data": {
      "text/plain": [
       "(26027, 36)"
      ]
     },
     "execution_count": 38,
     "metadata": {},
     "output_type": "execute_result"
    }
   ],
   "source": [
    "X_train.shape"
   ]
  },
  {
   "cell_type": "code",
   "execution_count": 39,
   "metadata": {},
   "outputs": [],
   "source": [
    "# Loading y_train"
   ]
  },
  {
   "cell_type": "code",
   "execution_count": 40,
   "metadata": {},
   "outputs": [],
   "source": [
    "y_train=pd.read_csv('y_train.csv')"
   ]
  },
  {
   "cell_type": "code",
   "execution_count": 41,
   "metadata": {},
   "outputs": [
    {
     "data": {
      "text/plain": [
       "(33050, 2)"
      ]
     },
     "execution_count": 41,
     "metadata": {},
     "output_type": "execute_result"
    }
   ],
   "source": [
    "y_train.shape"
   ]
  },
  {
   "cell_type": "code",
   "execution_count": 42,
   "metadata": {},
   "outputs": [
    {
     "data": {
      "text/html": [
       "<div>\n",
       "<style scoped>\n",
       "    .dataframe tbody tr th:only-of-type {\n",
       "        vertical-align: middle;\n",
       "    }\n",
       "\n",
       "    .dataframe tbody tr th {\n",
       "        vertical-align: top;\n",
       "    }\n",
       "\n",
       "    .dataframe thead th {\n",
       "        text-align: right;\n",
       "    }\n",
       "</style>\n",
       "<table border=\"1\" class=\"dataframe\">\n",
       "  <thead>\n",
       "    <tr style=\"text-align: right;\">\n",
       "      <th></th>\n",
       "      <th>Unique_ID</th>\n",
       "      <th>C1</th>\n",
       "      <th>C2</th>\n",
       "      <th>C3</th>\n",
       "      <th>C4</th>\n",
       "      <th>C5</th>\n",
       "      <th>C6</th>\n",
       "      <th>C7</th>\n",
       "      <th>C8</th>\n",
       "      <th>N1</th>\n",
       "      <th>...</th>\n",
       "      <th>N18</th>\n",
       "      <th>N19</th>\n",
       "      <th>N20</th>\n",
       "      <th>N21</th>\n",
       "      <th>N22</th>\n",
       "      <th>N23</th>\n",
       "      <th>N24</th>\n",
       "      <th>N33</th>\n",
       "      <th>N34</th>\n",
       "      <th>N35</th>\n",
       "    </tr>\n",
       "  </thead>\n",
       "  <tbody>\n",
       "    <tr>\n",
       "      <th>1</th>\n",
       "      <td>Candidate_48134</td>\n",
       "      <td>1</td>\n",
       "      <td>4</td>\n",
       "      <td>2</td>\n",
       "      <td>66</td>\n",
       "      <td>2</td>\n",
       "      <td>False</td>\n",
       "      <td>1</td>\n",
       "      <td>True</td>\n",
       "      <td>11.05</td>\n",
       "      <td>...</td>\n",
       "      <td>0.06</td>\n",
       "      <td>25856.0</td>\n",
       "      <td>17.0</td>\n",
       "      <td>0.88</td>\n",
       "      <td>1.0</td>\n",
       "      <td>40.0</td>\n",
       "      <td>10833.333330</td>\n",
       "      <td>160.00</td>\n",
       "      <td>262.10</td>\n",
       "      <td>17.0</td>\n",
       "    </tr>\n",
       "    <tr>\n",
       "      <th>3</th>\n",
       "      <td>Candidate_26401</td>\n",
       "      <td>1</td>\n",
       "      <td>1</td>\n",
       "      <td>16</td>\n",
       "      <td>47</td>\n",
       "      <td>1</td>\n",
       "      <td>False</td>\n",
       "      <td>4</td>\n",
       "      <td>True</td>\n",
       "      <td>17.99</td>\n",
       "      <td>...</td>\n",
       "      <td>0.89</td>\n",
       "      <td>1006.0</td>\n",
       "      <td>6.0</td>\n",
       "      <td>1.00</td>\n",
       "      <td>0.0</td>\n",
       "      <td>26.0</td>\n",
       "      <td>2413.666667</td>\n",
       "      <td>70.00</td>\n",
       "      <td>126.52</td>\n",
       "      <td>27.0</td>\n",
       "    </tr>\n",
       "    <tr>\n",
       "      <th>4</th>\n",
       "      <td>Candidate_34872</td>\n",
       "      <td>1</td>\n",
       "      <td>1</td>\n",
       "      <td>13</td>\n",
       "      <td>1</td>\n",
       "      <td>1</td>\n",
       "      <td>True</td>\n",
       "      <td>6</td>\n",
       "      <td>True</td>\n",
       "      <td>27.50</td>\n",
       "      <td>...</td>\n",
       "      <td>0.97</td>\n",
       "      <td>3398.0</td>\n",
       "      <td>31.0</td>\n",
       "      <td>0.96</td>\n",
       "      <td>0.0</td>\n",
       "      <td>44.0</td>\n",
       "      <td>7666.666667</td>\n",
       "      <td>100.00</td>\n",
       "      <td>205.47</td>\n",
       "      <td>21.0</td>\n",
       "    </tr>\n",
       "    <tr>\n",
       "      <th>5</th>\n",
       "      <td>Candidate_29660</td>\n",
       "      <td>1</td>\n",
       "      <td>0</td>\n",
       "      <td>30</td>\n",
       "      <td>13</td>\n",
       "      <td>2</td>\n",
       "      <td>False</td>\n",
       "      <td>2</td>\n",
       "      <td>True</td>\n",
       "      <td>13.50</td>\n",
       "      <td>...</td>\n",
       "      <td>0.62</td>\n",
       "      <td>4110.0</td>\n",
       "      <td>11.0</td>\n",
       "      <td>0.90</td>\n",
       "      <td>2.0</td>\n",
       "      <td>48.0</td>\n",
       "      <td>4250.000000</td>\n",
       "      <td>150.00</td>\n",
       "      <td>254.51</td>\n",
       "      <td>13.0</td>\n",
       "    </tr>\n",
       "    <tr>\n",
       "      <th>6</th>\n",
       "      <td>Candidate_29517</td>\n",
       "      <td>1</td>\n",
       "      <td>0</td>\n",
       "      <td>41</td>\n",
       "      <td>0</td>\n",
       "      <td>2</td>\n",
       "      <td>True</td>\n",
       "      <td>2</td>\n",
       "      <td>True</td>\n",
       "      <td>8.50</td>\n",
       "      <td>...</td>\n",
       "      <td>0.58</td>\n",
       "      <td>38757.0</td>\n",
       "      <td>23.0</td>\n",
       "      <td>1.00</td>\n",
       "      <td>2.0</td>\n",
       "      <td>30.0</td>\n",
       "      <td>4875.000000</td>\n",
       "      <td>51.00</td>\n",
       "      <td>80.50</td>\n",
       "      <td>19.0</td>\n",
       "    </tr>\n",
       "    <tr>\n",
       "      <th>...</th>\n",
       "      <td>...</td>\n",
       "      <td>...</td>\n",
       "      <td>...</td>\n",
       "      <td>...</td>\n",
       "      <td>...</td>\n",
       "      <td>...</td>\n",
       "      <td>...</td>\n",
       "      <td>...</td>\n",
       "      <td>...</td>\n",
       "      <td>...</td>\n",
       "      <td>...</td>\n",
       "      <td>...</td>\n",
       "      <td>...</td>\n",
       "      <td>...</td>\n",
       "      <td>...</td>\n",
       "      <td>...</td>\n",
       "      <td>...</td>\n",
       "      <td>...</td>\n",
       "      <td>...</td>\n",
       "      <td>...</td>\n",
       "      <td>...</td>\n",
       "    </tr>\n",
       "    <tr>\n",
       "      <th>33044</th>\n",
       "      <td>Candidate_18018</td>\n",
       "      <td>3</td>\n",
       "      <td>1</td>\n",
       "      <td>19</td>\n",
       "      <td>0</td>\n",
       "      <td>1</td>\n",
       "      <td>True</td>\n",
       "      <td>6</td>\n",
       "      <td>True</td>\n",
       "      <td>8.20</td>\n",
       "      <td>...</td>\n",
       "      <td>0.11</td>\n",
       "      <td>20232.0</td>\n",
       "      <td>17.0</td>\n",
       "      <td>1.00</td>\n",
       "      <td>0.0</td>\n",
       "      <td>12.0</td>\n",
       "      <td>8166.666667</td>\n",
       "      <td>72.00</td>\n",
       "      <td>313.49</td>\n",
       "      <td>15.0</td>\n",
       "    </tr>\n",
       "    <tr>\n",
       "      <th>33045</th>\n",
       "      <td>Candidate_26099</td>\n",
       "      <td>1</td>\n",
       "      <td>1</td>\n",
       "      <td>14</td>\n",
       "      <td>41</td>\n",
       "      <td>2</td>\n",
       "      <td>False</td>\n",
       "      <td>6</td>\n",
       "      <td>True</td>\n",
       "      <td>15.50</td>\n",
       "      <td>...</td>\n",
       "      <td>0.68</td>\n",
       "      <td>7661.0</td>\n",
       "      <td>7.0</td>\n",
       "      <td>1.00</td>\n",
       "      <td>0.0</td>\n",
       "      <td>18.0</td>\n",
       "      <td>7000.000000</td>\n",
       "      <td>199.98</td>\n",
       "      <td>349.07</td>\n",
       "      <td>8.0</td>\n",
       "    </tr>\n",
       "    <tr>\n",
       "      <th>33046</th>\n",
       "      <td>Candidate_33316</td>\n",
       "      <td>1</td>\n",
       "      <td>6</td>\n",
       "      <td>10</td>\n",
       "      <td>1</td>\n",
       "      <td>2</td>\n",
       "      <td>True</td>\n",
       "      <td>2</td>\n",
       "      <td>True</td>\n",
       "      <td>32.20</td>\n",
       "      <td>...</td>\n",
       "      <td>0.86</td>\n",
       "      <td>868.0</td>\n",
       "      <td>41.0</td>\n",
       "      <td>0.63</td>\n",
       "      <td>2.0</td>\n",
       "      <td>42.0</td>\n",
       "      <td>4420.000000</td>\n",
       "      <td>40.00</td>\n",
       "      <td>87.33</td>\n",
       "      <td>19.0</td>\n",
       "    </tr>\n",
       "    <tr>\n",
       "      <th>33047</th>\n",
       "      <td>Candidate_36027</td>\n",
       "      <td>1</td>\n",
       "      <td>1</td>\n",
       "      <td>2</td>\n",
       "      <td>4</td>\n",
       "      <td>2</td>\n",
       "      <td>False</td>\n",
       "      <td>6</td>\n",
       "      <td>True</td>\n",
       "      <td>8.99</td>\n",
       "      <td>...</td>\n",
       "      <td>0.27</td>\n",
       "      <td>20105.0</td>\n",
       "      <td>28.0</td>\n",
       "      <td>0.75</td>\n",
       "      <td>0.0</td>\n",
       "      <td>18.0</td>\n",
       "      <td>6971.833333</td>\n",
       "      <td>40.00</td>\n",
       "      <td>63.59</td>\n",
       "      <td>20.0</td>\n",
       "    </tr>\n",
       "    <tr>\n",
       "      <th>33049</th>\n",
       "      <td>Candidate_4714</td>\n",
       "      <td>1</td>\n",
       "      <td>6</td>\n",
       "      <td>8</td>\n",
       "      <td>14</td>\n",
       "      <td>1</td>\n",
       "      <td>False</td>\n",
       "      <td>4</td>\n",
       "      <td>True</td>\n",
       "      <td>26.99</td>\n",
       "      <td>...</td>\n",
       "      <td>0.34</td>\n",
       "      <td>326.0</td>\n",
       "      <td>3.0</td>\n",
       "      <td>1.00</td>\n",
       "      <td>0.0</td>\n",
       "      <td>18.0</td>\n",
       "      <td>2500.000000</td>\n",
       "      <td>100.00</td>\n",
       "      <td>204.10</td>\n",
       "      <td>11.0</td>\n",
       "    </tr>\n",
       "  </tbody>\n",
       "</table>\n",
       "<p>26027 rows × 36 columns</p>\n",
       "</div>"
      ],
      "text/plain": [
       "             Unique_ID  C1  C2  C3  C4  C5     C6  C7    C8     N1  ...   N18  \\\n",
       "1      Candidate_48134   1   4   2  66   2  False   1  True  11.05  ...  0.06   \n",
       "3      Candidate_26401   1   1  16  47   1  False   4  True  17.99  ...  0.89   \n",
       "4      Candidate_34872   1   1  13   1   1   True   6  True  27.50  ...  0.97   \n",
       "5      Candidate_29660   1   0  30  13   2  False   2  True  13.50  ...  0.62   \n",
       "6      Candidate_29517   1   0  41   0   2   True   2  True   8.50  ...  0.58   \n",
       "...                ...  ..  ..  ..  ..  ..    ...  ..   ...    ...  ...   ...   \n",
       "33044  Candidate_18018   3   1  19   0   1   True   6  True   8.20  ...  0.11   \n",
       "33045  Candidate_26099   1   1  14  41   2  False   6  True  15.50  ...  0.68   \n",
       "33046  Candidate_33316   1   6  10   1   2   True   2  True  32.20  ...  0.86   \n",
       "33047  Candidate_36027   1   1   2   4   2  False   6  True   8.99  ...  0.27   \n",
       "33049   Candidate_4714   1   6   8  14   1  False   4  True  26.99  ...  0.34   \n",
       "\n",
       "           N19   N20   N21  N22   N23           N24     N33     N34   N35  \n",
       "1      25856.0  17.0  0.88  1.0  40.0  10833.333330  160.00  262.10  17.0  \n",
       "3       1006.0   6.0  1.00  0.0  26.0   2413.666667   70.00  126.52  27.0  \n",
       "4       3398.0  31.0  0.96  0.0  44.0   7666.666667  100.00  205.47  21.0  \n",
       "5       4110.0  11.0  0.90  2.0  48.0   4250.000000  150.00  254.51  13.0  \n",
       "6      38757.0  23.0  1.00  2.0  30.0   4875.000000   51.00   80.50  19.0  \n",
       "...        ...   ...   ...  ...   ...           ...     ...     ...   ...  \n",
       "33044  20232.0  17.0  1.00  0.0  12.0   8166.666667   72.00  313.49  15.0  \n",
       "33045   7661.0   7.0  1.00  0.0  18.0   7000.000000  199.98  349.07   8.0  \n",
       "33046    868.0  41.0  0.63  2.0  42.0   4420.000000   40.00   87.33  19.0  \n",
       "33047  20105.0  28.0  0.75  0.0  18.0   6971.833333   40.00   63.59  20.0  \n",
       "33049    326.0   3.0  1.00  0.0  18.0   2500.000000  100.00  204.10  11.0  \n",
       "\n",
       "[26027 rows x 36 columns]"
      ]
     },
     "execution_count": 42,
     "metadata": {},
     "output_type": "execute_result"
    }
   ],
   "source": [
    "X_train"
   ]
  },
  {
   "cell_type": "code",
   "execution_count": 43,
   "metadata": {},
   "outputs": [],
   "source": [
    "## Selecting all rows in y_train which are present in X_train "
   ]
  },
  {
   "cell_type": "code",
   "execution_count": 44,
   "metadata": {},
   "outputs": [],
   "source": [
    "y_train=y_train.loc[X_train.index]"
   ]
  },
  {
   "cell_type": "code",
   "execution_count": 45,
   "metadata": {},
   "outputs": [
    {
     "data": {
      "text/html": [
       "<div>\n",
       "<style scoped>\n",
       "    .dataframe tbody tr th:only-of-type {\n",
       "        vertical-align: middle;\n",
       "    }\n",
       "\n",
       "    .dataframe tbody tr th {\n",
       "        vertical-align: top;\n",
       "    }\n",
       "\n",
       "    .dataframe thead th {\n",
       "        text-align: right;\n",
       "    }\n",
       "</style>\n",
       "<table border=\"1\" class=\"dataframe\">\n",
       "  <thead>\n",
       "    <tr style=\"text-align: right;\">\n",
       "      <th></th>\n",
       "      <th>Unique_ID</th>\n",
       "      <th>Dependent_Variable</th>\n",
       "    </tr>\n",
       "  </thead>\n",
       "  <tbody>\n",
       "    <tr>\n",
       "      <th>1</th>\n",
       "      <td>Candidate_48134</td>\n",
       "      <td>0</td>\n",
       "    </tr>\n",
       "    <tr>\n",
       "      <th>3</th>\n",
       "      <td>Candidate_26401</td>\n",
       "      <td>0</td>\n",
       "    </tr>\n",
       "    <tr>\n",
       "      <th>4</th>\n",
       "      <td>Candidate_34872</td>\n",
       "      <td>0</td>\n",
       "    </tr>\n",
       "    <tr>\n",
       "      <th>5</th>\n",
       "      <td>Candidate_29660</td>\n",
       "      <td>0</td>\n",
       "    </tr>\n",
       "    <tr>\n",
       "      <th>6</th>\n",
       "      <td>Candidate_29517</td>\n",
       "      <td>0</td>\n",
       "    </tr>\n",
       "    <tr>\n",
       "      <th>...</th>\n",
       "      <td>...</td>\n",
       "      <td>...</td>\n",
       "    </tr>\n",
       "    <tr>\n",
       "      <th>33044</th>\n",
       "      <td>Candidate_18018</td>\n",
       "      <td>0</td>\n",
       "    </tr>\n",
       "    <tr>\n",
       "      <th>33045</th>\n",
       "      <td>Candidate_26099</td>\n",
       "      <td>0</td>\n",
       "    </tr>\n",
       "    <tr>\n",
       "      <th>33046</th>\n",
       "      <td>Candidate_33316</td>\n",
       "      <td>0</td>\n",
       "    </tr>\n",
       "    <tr>\n",
       "      <th>33047</th>\n",
       "      <td>Candidate_36027</td>\n",
       "      <td>0</td>\n",
       "    </tr>\n",
       "    <tr>\n",
       "      <th>33049</th>\n",
       "      <td>Candidate_4714</td>\n",
       "      <td>1</td>\n",
       "    </tr>\n",
       "  </tbody>\n",
       "</table>\n",
       "<p>26027 rows × 2 columns</p>\n",
       "</div>"
      ],
      "text/plain": [
       "             Unique_ID  Dependent_Variable\n",
       "1      Candidate_48134                   0\n",
       "3      Candidate_26401                   0\n",
       "4      Candidate_34872                   0\n",
       "5      Candidate_29660                   0\n",
       "6      Candidate_29517                   0\n",
       "...                ...                 ...\n",
       "33044  Candidate_18018                   0\n",
       "33045  Candidate_26099                   0\n",
       "33046  Candidate_33316                   0\n",
       "33047  Candidate_36027                   0\n",
       "33049   Candidate_4714                   1\n",
       "\n",
       "[26027 rows x 2 columns]"
      ]
     },
     "execution_count": 45,
     "metadata": {},
     "output_type": "execute_result"
    }
   ],
   "source": [
    "y_train"
   ]
  },
  {
   "cell_type": "code",
   "execution_count": 46,
   "metadata": {},
   "outputs": [],
   "source": [
    "## Droppong 'Unique_ID' column in X_train"
   ]
  },
  {
   "cell_type": "code",
   "execution_count": 47,
   "metadata": {},
   "outputs": [],
   "source": [
    "X_train.drop(['Unique_ID'],axis=1,inplace=True)"
   ]
  },
  {
   "cell_type": "code",
   "execution_count": 48,
   "metadata": {},
   "outputs": [],
   "source": [
    "# One hot encoding 'C6' and 'C8' "
   ]
  },
  {
   "cell_type": "code",
   "execution_count": 49,
   "metadata": {},
   "outputs": [],
   "source": [
    "X_train=pd.get_dummies(X_train, columns = ['C6','C8'])"
   ]
  },
  {
   "cell_type": "code",
   "execution_count": 50,
   "metadata": {},
   "outputs": [
    {
     "data": {
      "text/html": [
       "<div>\n",
       "<style scoped>\n",
       "    .dataframe tbody tr th:only-of-type {\n",
       "        vertical-align: middle;\n",
       "    }\n",
       "\n",
       "    .dataframe tbody tr th {\n",
       "        vertical-align: top;\n",
       "    }\n",
       "\n",
       "    .dataframe thead th {\n",
       "        text-align: right;\n",
       "    }\n",
       "</style>\n",
       "<table border=\"1\" class=\"dataframe\">\n",
       "  <thead>\n",
       "    <tr style=\"text-align: right;\">\n",
       "      <th></th>\n",
       "      <th>C1</th>\n",
       "      <th>C2</th>\n",
       "      <th>C3</th>\n",
       "      <th>C4</th>\n",
       "      <th>C5</th>\n",
       "      <th>C7</th>\n",
       "      <th>N1</th>\n",
       "      <th>N2</th>\n",
       "      <th>N3</th>\n",
       "      <th>N4</th>\n",
       "      <th>...</th>\n",
       "      <th>N22</th>\n",
       "      <th>N23</th>\n",
       "      <th>N24</th>\n",
       "      <th>N33</th>\n",
       "      <th>N34</th>\n",
       "      <th>N35</th>\n",
       "      <th>C6_False</th>\n",
       "      <th>C6_True</th>\n",
       "      <th>C8_False</th>\n",
       "      <th>C8_True</th>\n",
       "    </tr>\n",
       "  </thead>\n",
       "  <tbody>\n",
       "    <tr>\n",
       "      <th>1</th>\n",
       "      <td>1</td>\n",
       "      <td>4</td>\n",
       "      <td>2</td>\n",
       "      <td>66</td>\n",
       "      <td>2</td>\n",
       "      <td>1</td>\n",
       "      <td>11.05</td>\n",
       "      <td>22.0</td>\n",
       "      <td>3.7</td>\n",
       "      <td>16.0</td>\n",
       "      <td>...</td>\n",
       "      <td>1.0</td>\n",
       "      <td>40.0</td>\n",
       "      <td>10833.333330</td>\n",
       "      <td>160.00</td>\n",
       "      <td>262.10</td>\n",
       "      <td>17.0</td>\n",
       "      <td>1</td>\n",
       "      <td>0</td>\n",
       "      <td>0</td>\n",
       "      <td>1</td>\n",
       "    </tr>\n",
       "    <tr>\n",
       "      <th>3</th>\n",
       "      <td>1</td>\n",
       "      <td>1</td>\n",
       "      <td>16</td>\n",
       "      <td>47</td>\n",
       "      <td>1</td>\n",
       "      <td>4</td>\n",
       "      <td>17.99</td>\n",
       "      <td>1.0</td>\n",
       "      <td>3.5</td>\n",
       "      <td>4.0</td>\n",
       "      <td>...</td>\n",
       "      <td>0.0</td>\n",
       "      <td>26.0</td>\n",
       "      <td>2413.666667</td>\n",
       "      <td>70.00</td>\n",
       "      <td>126.52</td>\n",
       "      <td>27.0</td>\n",
       "      <td>1</td>\n",
       "      <td>0</td>\n",
       "      <td>0</td>\n",
       "      <td>1</td>\n",
       "    </tr>\n",
       "    <tr>\n",
       "      <th>4</th>\n",
       "      <td>1</td>\n",
       "      <td>1</td>\n",
       "      <td>13</td>\n",
       "      <td>1</td>\n",
       "      <td>1</td>\n",
       "      <td>6</td>\n",
       "      <td>27.50</td>\n",
       "      <td>206.0</td>\n",
       "      <td>3.8</td>\n",
       "      <td>11.0</td>\n",
       "      <td>...</td>\n",
       "      <td>0.0</td>\n",
       "      <td>44.0</td>\n",
       "      <td>7666.666667</td>\n",
       "      <td>100.00</td>\n",
       "      <td>205.47</td>\n",
       "      <td>21.0</td>\n",
       "      <td>0</td>\n",
       "      <td>1</td>\n",
       "      <td>0</td>\n",
       "      <td>1</td>\n",
       "    </tr>\n",
       "    <tr>\n",
       "      <th>5</th>\n",
       "      <td>1</td>\n",
       "      <td>0</td>\n",
       "      <td>30</td>\n",
       "      <td>13</td>\n",
       "      <td>2</td>\n",
       "      <td>2</td>\n",
       "      <td>13.50</td>\n",
       "      <td>14.0</td>\n",
       "      <td>3.3</td>\n",
       "      <td>11.0</td>\n",
       "      <td>...</td>\n",
       "      <td>2.0</td>\n",
       "      <td>48.0</td>\n",
       "      <td>4250.000000</td>\n",
       "      <td>150.00</td>\n",
       "      <td>254.51</td>\n",
       "      <td>13.0</td>\n",
       "      <td>1</td>\n",
       "      <td>0</td>\n",
       "      <td>0</td>\n",
       "      <td>1</td>\n",
       "    </tr>\n",
       "    <tr>\n",
       "      <th>6</th>\n",
       "      <td>1</td>\n",
       "      <td>0</td>\n",
       "      <td>41</td>\n",
       "      <td>0</td>\n",
       "      <td>2</td>\n",
       "      <td>2</td>\n",
       "      <td>8.50</td>\n",
       "      <td>27.0</td>\n",
       "      <td>3.6</td>\n",
       "      <td>13.0</td>\n",
       "      <td>...</td>\n",
       "      <td>2.0</td>\n",
       "      <td>30.0</td>\n",
       "      <td>4875.000000</td>\n",
       "      <td>51.00</td>\n",
       "      <td>80.50</td>\n",
       "      <td>19.0</td>\n",
       "      <td>0</td>\n",
       "      <td>1</td>\n",
       "      <td>0</td>\n",
       "      <td>1</td>\n",
       "    </tr>\n",
       "    <tr>\n",
       "      <th>...</th>\n",
       "      <td>...</td>\n",
       "      <td>...</td>\n",
       "      <td>...</td>\n",
       "      <td>...</td>\n",
       "      <td>...</td>\n",
       "      <td>...</td>\n",
       "      <td>...</td>\n",
       "      <td>...</td>\n",
       "      <td>...</td>\n",
       "      <td>...</td>\n",
       "      <td>...</td>\n",
       "      <td>...</td>\n",
       "      <td>...</td>\n",
       "      <td>...</td>\n",
       "      <td>...</td>\n",
       "      <td>...</td>\n",
       "      <td>...</td>\n",
       "      <td>...</td>\n",
       "      <td>...</td>\n",
       "      <td>...</td>\n",
       "      <td>...</td>\n",
       "    </tr>\n",
       "    <tr>\n",
       "      <th>33044</th>\n",
       "      <td>3</td>\n",
       "      <td>1</td>\n",
       "      <td>19</td>\n",
       "      <td>0</td>\n",
       "      <td>1</td>\n",
       "      <td>6</td>\n",
       "      <td>8.20</td>\n",
       "      <td>32.0</td>\n",
       "      <td>4.0</td>\n",
       "      <td>7.0</td>\n",
       "      <td>...</td>\n",
       "      <td>0.0</td>\n",
       "      <td>12.0</td>\n",
       "      <td>8166.666667</td>\n",
       "      <td>72.00</td>\n",
       "      <td>313.49</td>\n",
       "      <td>15.0</td>\n",
       "      <td>0</td>\n",
       "      <td>1</td>\n",
       "      <td>0</td>\n",
       "      <td>1</td>\n",
       "    </tr>\n",
       "    <tr>\n",
       "      <th>33045</th>\n",
       "      <td>1</td>\n",
       "      <td>1</td>\n",
       "      <td>14</td>\n",
       "      <td>41</td>\n",
       "      <td>2</td>\n",
       "      <td>6</td>\n",
       "      <td>15.50</td>\n",
       "      <td>19.0</td>\n",
       "      <td>3.1</td>\n",
       "      <td>7.0</td>\n",
       "      <td>...</td>\n",
       "      <td>0.0</td>\n",
       "      <td>18.0</td>\n",
       "      <td>7000.000000</td>\n",
       "      <td>199.98</td>\n",
       "      <td>349.07</td>\n",
       "      <td>8.0</td>\n",
       "      <td>1</td>\n",
       "      <td>0</td>\n",
       "      <td>0</td>\n",
       "      <td>1</td>\n",
       "    </tr>\n",
       "    <tr>\n",
       "      <th>33046</th>\n",
       "      <td>1</td>\n",
       "      <td>6</td>\n",
       "      <td>10</td>\n",
       "      <td>1</td>\n",
       "      <td>2</td>\n",
       "      <td>2</td>\n",
       "      <td>32.20</td>\n",
       "      <td>42.0</td>\n",
       "      <td>3.1</td>\n",
       "      <td>12.0</td>\n",
       "      <td>...</td>\n",
       "      <td>2.0</td>\n",
       "      <td>42.0</td>\n",
       "      <td>4420.000000</td>\n",
       "      <td>40.00</td>\n",
       "      <td>87.33</td>\n",
       "      <td>19.0</td>\n",
       "      <td>0</td>\n",
       "      <td>1</td>\n",
       "      <td>0</td>\n",
       "      <td>1</td>\n",
       "    </tr>\n",
       "    <tr>\n",
       "      <th>33047</th>\n",
       "      <td>1</td>\n",
       "      <td>1</td>\n",
       "      <td>2</td>\n",
       "      <td>4</td>\n",
       "      <td>2</td>\n",
       "      <td>6</td>\n",
       "      <td>8.99</td>\n",
       "      <td>137.0</td>\n",
       "      <td>3.7</td>\n",
       "      <td>14.0</td>\n",
       "      <td>...</td>\n",
       "      <td>0.0</td>\n",
       "      <td>18.0</td>\n",
       "      <td>6971.833333</td>\n",
       "      <td>40.00</td>\n",
       "      <td>63.59</td>\n",
       "      <td>20.0</td>\n",
       "      <td>1</td>\n",
       "      <td>0</td>\n",
       "      <td>0</td>\n",
       "      <td>1</td>\n",
       "    </tr>\n",
       "    <tr>\n",
       "      <th>33049</th>\n",
       "      <td>1</td>\n",
       "      <td>6</td>\n",
       "      <td>8</td>\n",
       "      <td>14</td>\n",
       "      <td>1</td>\n",
       "      <td>4</td>\n",
       "      <td>26.99</td>\n",
       "      <td>130.0</td>\n",
       "      <td>3.5</td>\n",
       "      <td>1.0</td>\n",
       "      <td>...</td>\n",
       "      <td>0.0</td>\n",
       "      <td>18.0</td>\n",
       "      <td>2500.000000</td>\n",
       "      <td>100.00</td>\n",
       "      <td>204.10</td>\n",
       "      <td>11.0</td>\n",
       "      <td>1</td>\n",
       "      <td>0</td>\n",
       "      <td>0</td>\n",
       "      <td>1</td>\n",
       "    </tr>\n",
       "  </tbody>\n",
       "</table>\n",
       "<p>26027 rows × 37 columns</p>\n",
       "</div>"
      ],
      "text/plain": [
       "       C1  C2  C3  C4  C5  C7     N1     N2   N3    N4  ...  N22   N23  \\\n",
       "1       1   4   2  66   2   1  11.05   22.0  3.7  16.0  ...  1.0  40.0   \n",
       "3       1   1  16  47   1   4  17.99    1.0  3.5   4.0  ...  0.0  26.0   \n",
       "4       1   1  13   1   1   6  27.50  206.0  3.8  11.0  ...  0.0  44.0   \n",
       "5       1   0  30  13   2   2  13.50   14.0  3.3  11.0  ...  2.0  48.0   \n",
       "6       1   0  41   0   2   2   8.50   27.0  3.6  13.0  ...  2.0  30.0   \n",
       "...    ..  ..  ..  ..  ..  ..    ...    ...  ...   ...  ...  ...   ...   \n",
       "33044   3   1  19   0   1   6   8.20   32.0  4.0   7.0  ...  0.0  12.0   \n",
       "33045   1   1  14  41   2   6  15.50   19.0  3.1   7.0  ...  0.0  18.0   \n",
       "33046   1   6  10   1   2   2  32.20   42.0  3.1  12.0  ...  2.0  42.0   \n",
       "33047   1   1   2   4   2   6   8.99  137.0  3.7  14.0  ...  0.0  18.0   \n",
       "33049   1   6   8  14   1   4  26.99  130.0  3.5   1.0  ...  0.0  18.0   \n",
       "\n",
       "                N24     N33     N34   N35  C6_False  C6_True  C8_False  \\\n",
       "1      10833.333330  160.00  262.10  17.0         1        0         0   \n",
       "3       2413.666667   70.00  126.52  27.0         1        0         0   \n",
       "4       7666.666667  100.00  205.47  21.0         0        1         0   \n",
       "5       4250.000000  150.00  254.51  13.0         1        0         0   \n",
       "6       4875.000000   51.00   80.50  19.0         0        1         0   \n",
       "...             ...     ...     ...   ...       ...      ...       ...   \n",
       "33044   8166.666667   72.00  313.49  15.0         0        1         0   \n",
       "33045   7000.000000  199.98  349.07   8.0         1        0         0   \n",
       "33046   4420.000000   40.00   87.33  19.0         0        1         0   \n",
       "33047   6971.833333   40.00   63.59  20.0         1        0         0   \n",
       "33049   2500.000000  100.00  204.10  11.0         1        0         0   \n",
       "\n",
       "       C8_True  \n",
       "1            1  \n",
       "3            1  \n",
       "4            1  \n",
       "5            1  \n",
       "6            1  \n",
       "...        ...  \n",
       "33044        1  \n",
       "33045        1  \n",
       "33046        1  \n",
       "33047        1  \n",
       "33049        1  \n",
       "\n",
       "[26027 rows x 37 columns]"
      ]
     },
     "execution_count": 50,
     "metadata": {},
     "output_type": "execute_result"
    }
   ],
   "source": [
    "X_train"
   ]
  },
  {
   "cell_type": "code",
   "execution_count": 51,
   "metadata": {},
   "outputs": [],
   "source": [
    "# Dropping 'Unique_ID' column from y_train"
   ]
  },
  {
   "cell_type": "code",
   "execution_count": 52,
   "metadata": {},
   "outputs": [],
   "source": [
    "y_train.drop(['Unique_ID'],axis=1,inplace=True)"
   ]
  },
  {
   "cell_type": "code",
   "execution_count": 53,
   "metadata": {},
   "outputs": [
    {
     "data": {
      "text/html": [
       "<div>\n",
       "<style scoped>\n",
       "    .dataframe tbody tr th:only-of-type {\n",
       "        vertical-align: middle;\n",
       "    }\n",
       "\n",
       "    .dataframe tbody tr th {\n",
       "        vertical-align: top;\n",
       "    }\n",
       "\n",
       "    .dataframe thead th {\n",
       "        text-align: right;\n",
       "    }\n",
       "</style>\n",
       "<table border=\"1\" class=\"dataframe\">\n",
       "  <thead>\n",
       "    <tr style=\"text-align: right;\">\n",
       "      <th></th>\n",
       "      <th>Dependent_Variable</th>\n",
       "    </tr>\n",
       "  </thead>\n",
       "  <tbody>\n",
       "    <tr>\n",
       "      <th>1</th>\n",
       "      <td>0</td>\n",
       "    </tr>\n",
       "    <tr>\n",
       "      <th>3</th>\n",
       "      <td>0</td>\n",
       "    </tr>\n",
       "    <tr>\n",
       "      <th>4</th>\n",
       "      <td>0</td>\n",
       "    </tr>\n",
       "    <tr>\n",
       "      <th>5</th>\n",
       "      <td>0</td>\n",
       "    </tr>\n",
       "    <tr>\n",
       "      <th>6</th>\n",
       "      <td>0</td>\n",
       "    </tr>\n",
       "    <tr>\n",
       "      <th>...</th>\n",
       "      <td>...</td>\n",
       "    </tr>\n",
       "    <tr>\n",
       "      <th>33044</th>\n",
       "      <td>0</td>\n",
       "    </tr>\n",
       "    <tr>\n",
       "      <th>33045</th>\n",
       "      <td>0</td>\n",
       "    </tr>\n",
       "    <tr>\n",
       "      <th>33046</th>\n",
       "      <td>0</td>\n",
       "    </tr>\n",
       "    <tr>\n",
       "      <th>33047</th>\n",
       "      <td>0</td>\n",
       "    </tr>\n",
       "    <tr>\n",
       "      <th>33049</th>\n",
       "      <td>1</td>\n",
       "    </tr>\n",
       "  </tbody>\n",
       "</table>\n",
       "<p>26027 rows × 1 columns</p>\n",
       "</div>"
      ],
      "text/plain": [
       "       Dependent_Variable\n",
       "1                       0\n",
       "3                       0\n",
       "4                       0\n",
       "5                       0\n",
       "6                       0\n",
       "...                   ...\n",
       "33044                   0\n",
       "33045                   0\n",
       "33046                   0\n",
       "33047                   0\n",
       "33049                   1\n",
       "\n",
       "[26027 rows x 1 columns]"
      ]
     },
     "execution_count": 53,
     "metadata": {},
     "output_type": "execute_result"
    }
   ],
   "source": [
    "y_train"
   ]
  },
  {
   "cell_type": "code",
   "execution_count": 54,
   "metadata": {},
   "outputs": [],
   "source": [
    "# Converting X_train and y_train to numpy arrays"
   ]
  },
  {
   "cell_type": "code",
   "execution_count": 55,
   "metadata": {},
   "outputs": [],
   "source": [
    "X_train=X_train.to_numpy()"
   ]
  },
  {
   "cell_type": "code",
   "execution_count": 56,
   "metadata": {},
   "outputs": [],
   "source": [
    "y_train=y_train.to_numpy()"
   ]
  },
  {
   "cell_type": "code",
   "execution_count": 57,
   "metadata": {},
   "outputs": [],
   "source": [
    "X_train = X_train.astype('float64')\n",
    "y_train=y_train.astype('float64')"
   ]
  },
  {
   "cell_type": "code",
   "execution_count": 58,
   "metadata": {},
   "outputs": [
    {
     "data": {
      "text/plain": [
       "array([[ 1.,  4.,  2., ...,  0.,  0.,  1.],\n",
       "       [ 1.,  1., 16., ...,  0.,  0.,  1.],\n",
       "       [ 1.,  1., 13., ...,  1.,  0.,  1.],\n",
       "       ...,\n",
       "       [ 1.,  6., 10., ...,  1.,  0.,  1.],\n",
       "       [ 1.,  1.,  2., ...,  0.,  0.,  1.],\n",
       "       [ 1.,  6.,  8., ...,  0.,  0.,  1.]])"
      ]
     },
     "execution_count": 58,
     "metadata": {},
     "output_type": "execute_result"
    }
   ],
   "source": [
    "X_train"
   ]
  },
  {
   "cell_type": "code",
   "execution_count": 59,
   "metadata": {},
   "outputs": [],
   "source": [
    "# ravelling the y_train to get a 1D array"
   ]
  },
  {
   "cell_type": "code",
   "execution_count": 60,
   "metadata": {},
   "outputs": [],
   "source": [
    "y_train=y_train.ravel()"
   ]
  },
  {
   "cell_type": "code",
   "execution_count": 62,
   "metadata": {},
   "outputs": [
    {
     "data": {
      "text/plain": [
       "(26027,)"
      ]
     },
     "execution_count": 62,
     "metadata": {},
     "output_type": "execute_result"
    }
   ],
   "source": [
    "y_train.shape"
   ]
  },
  {
   "cell_type": "code",
   "execution_count": 65,
   "metadata": {},
   "outputs": [],
   "source": [
    "# imporint various metrics for model evaluation"
   ]
  },
  {
   "cell_type": "code",
   "execution_count": 67,
   "metadata": {},
   "outputs": [],
   "source": [
    "from sklearn.model_selection import train_test_split\n",
    "from sklearn.metrics import accuracy_score\n",
    "from sklearn.metrics import classification_report\n",
    "from sklearn.metrics import confusion_matrix\n",
    "from sklearn.metrics import roc_auc_score,roc_curve"
   ]
  },
  {
   "cell_type": "code",
   "execution_count": 68,
   "metadata": {},
   "outputs": [],
   "source": [
    "## Splitting and Scaling data for using logistic regression classfier to fit the data"
   ]
  },
  {
   "cell_type": "code",
   "execution_count": 70,
   "metadata": {},
   "outputs": [
    {
     "name": "stdout",
     "output_type": "stream",
     "text": [
      "0.7356895889358432\n",
      "              precision    recall  f1-score   support\n",
      "\n",
      "         0.0       0.75      0.94      0.83      3673\n",
      "         1.0       0.63      0.25      0.36      1533\n",
      "\n",
      "    accuracy                           0.74      5206\n",
      "   macro avg       0.69      0.60      0.60      5206\n",
      "weighted avg       0.71      0.74      0.69      5206\n",
      "\n",
      "[[3440  233]\n",
      " [1143  390]]\n",
      "auc score 0.5954836238207302\n"
     ]
    },
    {
     "data": {
      "image/png": "[encoded data removed]",
      "text/plain": [
       "<Figure size 432x288 with 1 Axes>"
      ]
     },
     "metadata": {
      "needs_background": "light"
     },
     "output_type": "display_data"
    }
   ],
   "source": [
    "from sklearn.preprocessing import StandardScaler\n",
    "from sklearn.linear_model import LogisticRegression\n",
    "\n",
    "\n",
    "\n",
    "X_train_split_scaled, X_val_scaled, y_train_split_scaled, y_val_scaled = train_test_split(X_train, y_train, test_size=.20, random_state =42)\n",
    "scaler = StandardScaler().fit(X_train_split_scaled)\n",
    "X_train_split_scaled=scaler.transform(X_train_split_scaled)\n",
    "X_val_scaled=scaler.transform(X_val_scaled)\n",
    "\n",
    "logistic_model= LogisticRegression().fit(X_train_split_scaled, y_train_split_scaled) \n",
    "y_pred = logistic_model.predict(X_val_scaled) \n",
    "\n",
    "print(accuracy_score(y_val_scaled,y_pred))\n",
    "print(classification_report(y_val_scaled,y_pred)) \n",
    "print(confusion_matrix(y_val_scaled, y_pred)) \n",
    "auc_score= roc_auc_score(y_val_scaled,y_pred)\n",
    "print('auc score',auc_score)\n",
    "ns_fpr, ns_tpr, _ = roc_curve(y_val_scaled, y_pred)\n",
    "plt.plot(ns_fpr, ns_tpr, linestyle='--')\n",
    "plt.show()\n",
    "    "
   ]
  },
  {
   "cell_type": "code",
   "execution_count": 71,
   "metadata": {},
   "outputs": [],
   "source": [
    "# Fitting the data using using Support Vector Classifer"
   ]
  },
  {
   "cell_type": "code",
   "execution_count": 72,
   "metadata": {},
   "outputs": [],
   "source": [
    "X_train_split, X_val, y_train_split, y_val = train_test_split(X_train, y_train, test_size=.20, random_state =42)"
   ]
  },
  {
   "cell_type": "code",
   "execution_count": 73,
   "metadata": {},
   "outputs": [
    {
     "name": "stdout",
     "output_type": "stream",
     "text": [
      "0.7053399923165579\n",
      "              precision    recall  f1-score   support\n",
      "\n",
      "         0.0       0.71      1.00      0.83      3673\n",
      "         1.0       0.00      0.00      0.00      1533\n",
      "\n",
      "    accuracy                           0.71      5206\n",
      "   macro avg       0.35      0.50      0.41      5206\n",
      "weighted avg       0.50      0.71      0.58      5206\n",
      "\n",
      "[[3672    1]\n",
      " [1533    0]]\n",
      "auc_score 0.49986387149469097\n"
     ]
    },
    {
     "data": {
      "text/plain": [
       "[<matplotlib.lines.Line2D at 0x1976e032e20>]"
      ]
     },
     "execution_count": 73,
     "metadata": {},
     "output_type": "execute_result"
    },
    {
     "data": {
      "image/png": "[encoded data removed]",
      "text/plain": [
       "<Figure size 432x288 with 1 Axes>"
      ]
     },
     "metadata": {
      "needs_background": "light"
     },
     "output_type": "display_data"
    }
   ],
   "source": [
    "from sklearn.svm import SVC \n",
    "svm_model = SVC().fit(X_train_split, y_train_split) \n",
    "y_pred = svm_model.predict(X_val) \n",
    "\n",
    "\n",
    "print(accuracy_score(y_val,y_pred))\n",
    "print(classification_report(y_val,y_pred)) \n",
    "print(confusion_matrix(y_val,y_pred) )\n",
    "auc_score= roc_auc_score(y_val,y_pred)\n",
    "print('auc_score',auc_score)\n",
    "ns_fpr, ns_tpr, _ = roc_curve(y_val,y_pred)\n",
    "plt.plot(ns_fpr, ns_tpr, linestyle='--')"
   ]
  },
  {
   "cell_type": "code",
   "execution_count": 74,
   "metadata": {},
   "outputs": [],
   "source": [
    "# DecisionTreeClassifier"
   ]
  },
  {
   "cell_type": "code",
   "execution_count": 75,
   "metadata": {},
   "outputs": [
    {
     "name": "stdout",
     "output_type": "stream",
     "text": [
      "0.7157126392623896\n",
      "              precision    recall  f1-score   support\n",
      "\n",
      "         0.0       0.75      0.91      0.82      3673\n",
      "         1.0       0.54      0.26      0.35      1533\n",
      "\n",
      "    accuracy                           0.72      5206\n",
      "   macro avg       0.64      0.58      0.58      5206\n",
      "weighted avg       0.68      0.72      0.68      5206\n",
      "\n",
      "[[3325  348]\n",
      " [1132  401]]\n",
      "auc_score 0.5834165821746427\n"
     ]
    },
    {
     "data": {
      "text/plain": [
       "[<matplotlib.lines.Line2D at 0x1976e3d38e0>]"
      ]
     },
     "execution_count": 75,
     "metadata": {},
     "output_type": "execute_result"
    },
    {
     "data": {
      "image/png": "[encoded data removed]",
      "text/plain": [
       "<Figure size 432x288 with 1 Axes>"
      ]
     },
     "metadata": {
      "needs_background": "light"
     },
     "output_type": "display_data"
    }
   ],
   "source": [
    "from sklearn.tree import DecisionTreeClassifier \n",
    "\n",
    "dtree= DecisionTreeClassifier(max_depth = 10).fit(X_train_split, y_train_split) \n",
    "y_pred= dtree.predict(X_val) \n",
    "\n",
    "print(accuracy_score(y_val,y_pred))\n",
    "print(classification_report(y_val,y_pred)) \n",
    "print(confusion_matrix(y_val, y_pred) )\n",
    "auc_score= roc_auc_score(y_val,y_pred)\n",
    "print('auc_score',auc_score)\n",
    "ns_fpr, ns_tpr, _ = roc_curve(y_val,y_pred)\n",
    "plt.plot(ns_fpr, ns_tpr, linestyle='--')"
   ]
  },
  {
   "cell_type": "code",
   "execution_count": 76,
   "metadata": {},
   "outputs": [],
   "source": [
    "# RandomForestClassifier "
   ]
  },
  {
   "cell_type": "code",
   "execution_count": 77,
   "metadata": {},
   "outputs": [
    {
     "name": "stdout",
     "output_type": "stream",
     "text": [
      "0.7289665770265079\n",
      "              precision    recall  f1-score   support\n",
      "\n",
      "         0.0       0.73      0.98      0.84      3673\n",
      "         1.0       0.71      0.13      0.22      1533\n",
      "\n",
      "    accuracy                           0.73      5206\n",
      "   macro avg       0.72      0.56      0.53      5206\n",
      "weighted avg       0.72      0.73      0.66      5206\n",
      "\n",
      "[[3591   82]\n",
      " [1329  204]]\n",
      "auc_scoer 0.5553736660871659\n"
     ]
    },
    {
     "data": {
      "text/plain": [
       "[<matplotlib.lines.Line2D at 0x1976e4b62e0>]"
      ]
     },
     "execution_count": 77,
     "metadata": {},
     "output_type": "execute_result"
    },
    {
     "data": {
      "image/png": "[encoded data removed]",
      "text/plain": [
       "<Figure size 432x288 with 1 Axes>"
      ]
     },
     "metadata": {
      "needs_background": "light"
     },
     "output_type": "display_data"
    }
   ],
   "source": [
    "from sklearn.ensemble import RandomForestClassifier\n",
    "  \n",
    "\n",
    "rf_classifier = RandomForestClassifier(n_estimators = 100, max_depth=6,random_state = 42) \n",
    "  \n",
    "rf_classifier.fit(X_train_split, y_train_split)   \n",
    "\n",
    "y_pred = rf_classifier.predict(X_val) \n",
    "\n",
    "\n",
    "print(accuracy_score(y_val,y_pred))\n",
    "print(classification_report(y_val,y_pred)) \n",
    "print(confusion_matrix(y_val,y_pred) )\n",
    "auc_score= roc_auc_score(y_val,y_pred)\n",
    "print('auc_scoer',auc_score)\n",
    "ns_fpr, ns_tpr, _ = roc_curve(y_val,y_pred)\n",
    "plt.plot(ns_fpr, ns_tpr, linestyle='--')"
   ]
  },
  {
   "cell_type": "code",
   "execution_count": 82,
   "metadata": {},
   "outputs": [],
   "source": [
    "import evalml\n"
   ]
  },
  {
   "cell_type": "code",
   "execution_count": 83,
   "metadata": {},
   "outputs": [],
   "source": [
    "# Leveraging automl libraries such as EvalMl and TPOT for best model search "
   ]
  },
  {
   "cell_type": "code",
   "execution_count": 84,
   "metadata": {},
   "outputs": [],
   "source": [
    "X_train_split, X_test, y_train_split, y_test = evalml.preprocessing.split_data(X_train, y_train, problem_type='binary')"
   ]
  },
  {
   "cell_type": "code",
   "execution_count": 85,
   "metadata": {},
   "outputs": [
    {
     "name": "stdout",
     "output_type": "stream",
     "text": [
      "Using default limit of max_batches=1.\n",
      "\n",
      "Generating pipelines to search over...\n",
      "8 pipelines ready for search.\n",
      "\n",
      "*****************************\n",
      "* Beginning pipeline search *\n",
      "*****************************\n",
      "\n",
      "Optimizing for AUC. \n",
      "Greater score is better.\n",
      "\n",
      "Using SequentialEngine to train and score pipelines.\n",
      "Searching up to 1 batches for a total of 9 pipelines. \n",
      "Allowed model families: linear_model, linear_model, xgboost, lightgbm, catboost, random_forest, decision_tree, extra_trees\n",
      "\n"
     ]
    },
    {
     "data": {
      "application/vnd.jupyter.widget-view+json": {
       "model_id": "702a25540103418c96ae3e50d6ebbff7",
       "version_major": 2,
       "version_minor": 0
      },
      "text/plain": [
       "FigureWidget({\n",
       "    'data': [{'mode': 'lines+markers',\n",
       "              'name': 'Best Score',\n",
       "              'type'…"
      ]
     },
     "metadata": {},
     "output_type": "display_data"
    },
    {
     "name": "stdout",
     "output_type": "stream",
     "text": [
      "Evaluating Baseline Pipeline: Mode Baseline Binary Classification Pipeline\n",
      "Mode Baseline Binary Classification Pipeline:\n",
      "\tStarting cross validation\n",
      "\tFinished cross validation - mean AUC: 0.500\n",
      "\n",
      "*****************************\n",
      "* Evaluating Batch Number 1 *\n",
      "*****************************\n",
      "\n",
      "Elastic Net Classifier w/ Label Encoder + Imputer + Standard Scaler:\n",
      "\tStarting cross validation\n",
      "\tFinished cross validation - mean AUC: 0.735\n",
      "Logistic Regression Classifier w/ Label Encoder + Imputer + Standard Scaler:\n",
      "\tStarting cross validation\n",
      "\tFinished cross validation - mean AUC: 0.735\n",
      "XGBoost Classifier w/ Label Encoder + Imputer:\n",
      "\tStarting cross validation\n",
      "\tFinished cross validation - mean AUC: 0.754\n",
      "LightGBM Classifier w/ Label Encoder + Imputer:\n",
      "\tStarting cross validation\n",
      "\tFinished cross validation - mean AUC: 0.753\n",
      "CatBoost Classifier w/ Label Encoder + Imputer:\n",
      "\tStarting cross validation\n",
      "\tFinished cross validation - mean AUC: 0.717\n",
      "Random Forest Classifier w/ Label Encoder + Imputer:\n",
      "\tStarting cross validation\n",
      "\tFinished cross validation - mean AUC: 0.734\n",
      "Decision Tree Classifier w/ Label Encoder + Imputer:\n",
      "\tStarting cross validation\n",
      "\tFinished cross validation - mean AUC: 0.676\n",
      "Extra Trees Classifier w/ Label Encoder + Imputer:\n",
      "\tStarting cross validation\n",
      "\tFinished cross validation - mean AUC: 0.719\n",
      "\n",
      "Search finished after 00:39            \n",
      "Best pipeline: XGBoost Classifier w/ Label Encoder + Imputer\n",
      "Best pipeline AUC: 0.753597\n",
      "None\n"
     ]
    }
   ],
   "source": [
    "from evalml.automl import AutoMLSearch\n",
    "automl_model = AutoMLSearch(X_train=X_train, y_train=y_train, problem_type='binary',objective='auc',verbose=True)\n",
    "print(automl_model.search())"
   ]
  },
  {
   "cell_type": "code",
   "execution_count": 88,
   "metadata": {},
   "outputs": [
    {
     "data": {
      "text/html": [
       "<div>\n",
       "<style scoped>\n",
       "    .dataframe tbody tr th:only-of-type {\n",
       "        vertical-align: middle;\n",
       "    }\n",
       "\n",
       "    .dataframe tbody tr th {\n",
       "        vertical-align: top;\n",
       "    }\n",
       "\n",
       "    .dataframe thead th {\n",
       "        text-align: right;\n",
       "    }\n",
       "</style>\n",
       "<table border=\"1\" class=\"dataframe\">\n",
       "  <thead>\n",
       "    <tr style=\"text-align: right;\">\n",
       "      <th></th>\n",
       "      <th>id</th>\n",
       "      <th>pipeline_name</th>\n",
       "      <th>search_order</th>\n",
       "      <th>mean_cv_score</th>\n",
       "      <th>standard_deviation_cv_score</th>\n",
       "      <th>validation_score</th>\n",
       "      <th>percent_better_than_baseline</th>\n",
       "      <th>high_variance_cv</th>\n",
       "      <th>parameters</th>\n",
       "    </tr>\n",
       "  </thead>\n",
       "  <tbody>\n",
       "    <tr>\n",
       "      <th>0</th>\n",
       "      <td>3</td>\n",
       "      <td>XGBoost Classifier w/ Label Encoder + Imputer</td>\n",
       "      <td>3</td>\n",
       "      <td>0.753597</td>\n",
       "      <td>0.006687</td>\n",
       "      <td>0.746994</td>\n",
       "      <td>25.359669</td>\n",
       "      <td>False</td>\n",
       "      <td>{'Imputer': {'categorical_impute_strategy': 'm...</td>\n",
       "    </tr>\n",
       "    <tr>\n",
       "      <th>1</th>\n",
       "      <td>4</td>\n",
       "      <td>LightGBM Classifier w/ Label Encoder + Imputer</td>\n",
       "      <td>4</td>\n",
       "      <td>0.752799</td>\n",
       "      <td>0.008284</td>\n",
       "      <td>0.744098</td>\n",
       "      <td>25.279882</td>\n",
       "      <td>False</td>\n",
       "      <td>{'Imputer': {'categorical_impute_strategy': 'm...</td>\n",
       "    </tr>\n",
       "    <tr>\n",
       "      <th>2</th>\n",
       "      <td>2</td>\n",
       "      <td>Logistic Regression Classifier w/ Label Encode...</td>\n",
       "      <td>2</td>\n",
       "      <td>0.734777</td>\n",
       "      <td>0.008555</td>\n",
       "      <td>0.726880</td>\n",
       "      <td>23.477719</td>\n",
       "      <td>False</td>\n",
       "      <td>{'Imputer': {'categorical_impute_strategy': 'm...</td>\n",
       "    </tr>\n",
       "    <tr>\n",
       "      <th>3</th>\n",
       "      <td>1</td>\n",
       "      <td>Elastic Net Classifier w/ Label Encoder + Impu...</td>\n",
       "      <td>1</td>\n",
       "      <td>0.734777</td>\n",
       "      <td>0.008580</td>\n",
       "      <td>0.726861</td>\n",
       "      <td>23.477666</td>\n",
       "      <td>False</td>\n",
       "      <td>{'Imputer': {'categorical_impute_strategy': 'm...</td>\n",
       "    </tr>\n",
       "    <tr>\n",
       "      <th>4</th>\n",
       "      <td>6</td>\n",
       "      <td>Random Forest Classifier w/ Label Encoder + Im...</td>\n",
       "      <td>6</td>\n",
       "      <td>0.734389</td>\n",
       "      <td>0.009142</td>\n",
       "      <td>0.725828</td>\n",
       "      <td>23.438880</td>\n",
       "      <td>False</td>\n",
       "      <td>{'Imputer': {'categorical_impute_strategy': 'm...</td>\n",
       "    </tr>\n",
       "    <tr>\n",
       "      <th>5</th>\n",
       "      <td>8</td>\n",
       "      <td>Extra Trees Classifier w/ Label Encoder + Imputer</td>\n",
       "      <td>8</td>\n",
       "      <td>0.719165</td>\n",
       "      <td>0.010965</td>\n",
       "      <td>0.707040</td>\n",
       "      <td>21.916462</td>\n",
       "      <td>False</td>\n",
       "      <td>{'Imputer': {'categorical_impute_strategy': 'm...</td>\n",
       "    </tr>\n",
       "    <tr>\n",
       "      <th>6</th>\n",
       "      <td>5</td>\n",
       "      <td>CatBoost Classifier w/ Label Encoder + Imputer</td>\n",
       "      <td>5</td>\n",
       "      <td>0.716889</td>\n",
       "      <td>0.007409</td>\n",
       "      <td>0.708438</td>\n",
       "      <td>21.688932</td>\n",
       "      <td>False</td>\n",
       "      <td>{'Imputer': {'categorical_impute_strategy': 'm...</td>\n",
       "    </tr>\n",
       "    <tr>\n",
       "      <th>7</th>\n",
       "      <td>7</td>\n",
       "      <td>Decision Tree Classifier w/ Label Encoder + Im...</td>\n",
       "      <td>7</td>\n",
       "      <td>0.675804</td>\n",
       "      <td>0.007509</td>\n",
       "      <td>0.669175</td>\n",
       "      <td>17.580409</td>\n",
       "      <td>False</td>\n",
       "      <td>{'Imputer': {'categorical_impute_strategy': 'm...</td>\n",
       "    </tr>\n",
       "    <tr>\n",
       "      <th>8</th>\n",
       "      <td>0</td>\n",
       "      <td>Mode Baseline Binary Classification Pipeline</td>\n",
       "      <td>0</td>\n",
       "      <td>0.500000</td>\n",
       "      <td>0.000000</td>\n",
       "      <td>0.500000</td>\n",
       "      <td>0.000000</td>\n",
       "      <td>False</td>\n",
       "      <td>{'Baseline Classifier': {'strategy': 'mode'}}</td>\n",
       "    </tr>\n",
       "  </tbody>\n",
       "</table>\n",
       "</div>"
      ],
      "text/plain": [
       "   id                                      pipeline_name  search_order  \\\n",
       "0   3      XGBoost Classifier w/ Label Encoder + Imputer             3   \n",
       "1   4     LightGBM Classifier w/ Label Encoder + Imputer             4   \n",
       "2   2  Logistic Regression Classifier w/ Label Encode...             2   \n",
       "3   1  Elastic Net Classifier w/ Label Encoder + Impu...             1   \n",
       "4   6  Random Forest Classifier w/ Label Encoder + Im...             6   \n",
       "5   8  Extra Trees Classifier w/ Label Encoder + Imputer             8   \n",
       "6   5     CatBoost Classifier w/ Label Encoder + Imputer             5   \n",
       "7   7  Decision Tree Classifier w/ Label Encoder + Im...             7   \n",
       "8   0       Mode Baseline Binary Classification Pipeline             0   \n",
       "\n",
       "   mean_cv_score  standard_deviation_cv_score  validation_score  \\\n",
       "0       0.753597                     0.006687          0.746994   \n",
       "1       0.752799                     0.008284          0.744098   \n",
       "2       0.734777                     0.008555          0.726880   \n",
       "3       0.734777                     0.008580          0.726861   \n",
       "4       0.734389                     0.009142          0.725828   \n",
       "5       0.719165                     0.010965          0.707040   \n",
       "6       0.716889                     0.007409          0.708438   \n",
       "7       0.675804                     0.007509          0.669175   \n",
       "8       0.500000                     0.000000          0.500000   \n",
       "\n",
       "   percent_better_than_baseline  high_variance_cv  \\\n",
       "0                     25.359669             False   \n",
       "1                     25.279882             False   \n",
       "2                     23.477719             False   \n",
       "3                     23.477666             False   \n",
       "4                     23.438880             False   \n",
       "5                     21.916462             False   \n",
       "6                     21.688932             False   \n",
       "7                     17.580409             False   \n",
       "8                      0.000000             False   \n",
       "\n",
       "                                          parameters  \n",
       "0  {'Imputer': {'categorical_impute_strategy': 'm...  \n",
       "1  {'Imputer': {'categorical_impute_strategy': 'm...  \n",
       "2  {'Imputer': {'categorical_impute_strategy': 'm...  \n",
       "3  {'Imputer': {'categorical_impute_strategy': 'm...  \n",
       "4  {'Imputer': {'categorical_impute_strategy': 'm...  \n",
       "5  {'Imputer': {'categorical_impute_strategy': 'm...  \n",
       "6  {'Imputer': {'categorical_impute_strategy': 'm...  \n",
       "7  {'Imputer': {'categorical_impute_strategy': 'm...  \n",
       "8      {'Baseline Classifier': {'strategy': 'mode'}}  "
      ]
     },
     "execution_count": 88,
     "metadata": {},
     "output_type": "execute_result"
    }
   ],
   "source": [
    "automl_model.rankings"
   ]
  },
  {
   "cell_type": "code",
   "execution_count": 90,
   "metadata": {},
   "outputs": [
    {
     "name": "stdout",
     "output_type": "stream",
     "text": [
      "\n",
      "*************************************************\n",
      "* XGBoost Classifier w/ Label Encoder + Imputer *\n",
      "*************************************************\n",
      "\n",
      "Problem Type: binary\n",
      "Model Family: XGBoost\n",
      "\n",
      "Pipeline Steps\n",
      "==============\n",
      "1. Label Encoder\n",
      "2. Imputer\n",
      "\t * categorical_impute_strategy : most_frequent\n",
      "\t * numeric_impute_strategy : mean\n",
      "\t * categorical_fill_value : None\n",
      "\t * numeric_fill_value : None\n",
      "3. XGBoost Classifier\n",
      "\t * eta : 0.1\n",
      "\t * max_depth : 6\n",
      "\t * min_child_weight : 1\n",
      "\t * n_estimators : 100\n",
      "\t * n_jobs : -1\n",
      "\t * eval_metric : logloss\n",
      "\n",
      "Training\n",
      "========\n",
      "Training for binary problems.\n",
      "Total training time (including CV): 7.5 seconds\n",
      "\n",
      "Cross Validation\n",
      "----------------\n",
      "              AUC  MCC Binary  Log Loss Binary  Gini  Precision    F1  Balanced Accuracy Binary  Accuracy Binary # Training # Validation\n",
      "0           0.747       0.317            0.517 0.494      0.441 0.546                     0.675            0.657     17,351        8,676\n",
      "1           0.753       0.322            0.513 0.507      0.416 0.551                     0.676            0.618     17,351        8,676\n",
      "2           0.760       0.337            0.506 0.521      0.436 0.559                     0.686            0.646     17,352        8,675\n",
      "mean        0.754       0.325            0.512 0.507      0.431 0.552                     0.679            0.640          -            -\n",
      "std         0.007       0.010            0.006 0.013      0.013 0.007                     0.006            0.020          -            -\n",
      "coef of var 0.009       0.032            0.011 0.026      0.030 0.012                     0.009            0.031          -            -\n"
     ]
    }
   ],
   "source": [
    "\n",
    "\n",
    "automl_model.describe_pipeline(automl_model.rankings.iloc[0][\"id\"])\n",
    "\n"
   ]
  },
  {
   "cell_type": "code",
   "execution_count": 152,
   "metadata": {},
   "outputs": [
    {
     "data": {
      "application/vnd.jupyter.widget-view+json": {
       "model_id": "",
       "version_major": 2,
       "version_minor": 0
      },
      "text/plain": [
       "Optimization Progress:   0%|          | 0/120 [00:00<?, ?pipeline/s]"
      ]
     },
     "metadata": {},
     "output_type": "display_data"
    },
    {
     "name": "stdout",
     "output_type": "stream",
     "text": [
      "\n",
      "Generation 1 - Current best internal CV score: 0.7497517767092721\n",
      "\n",
      "Generation 2 - Current best internal CV score: 0.7523936821995413\n",
      "\n",
      "Generation 3 - Current best internal CV score: 0.7524720204545071\n",
      "\n",
      "Generation 4 - Current best internal CV score: 0.7524720204545071\n",
      "\n",
      "Generation 5 - Current best internal CV score: 0.752782463530294\n",
      "\n",
      "Best pipeline: RandomForestClassifier(input_matrix, bootstrap=True, criterion=entropy, max_features=0.15000000000000002, min_samples_leaf=5, min_samples_split=10, n_estimators=100)\n",
      "0.9586071665220135\n"
     ]
    }
   ],
   "source": [
    "from tpot import TPOTClassifier\n",
    "\n",
    "\n",
    "tpot_model = TPOTClassifier(generations=5, population_size=20, cv=5,\n",
    "                                    random_state=42, verbosity=2,scoring='roc_auc',n_jobs=-2)\n",
    "tpot_model.fit(X_train_split, y_train_split)\n",
    "print(tpot_model.score(X_val, y_val))\n",
    "tpot_model.export('tpot_best_pipeline.py')"
   ]
  },
  {
   "cell_type": "code",
   "execution_count": 91,
   "metadata": {},
   "outputs": [],
   "source": [
    "# trying to recreate tpot's best pipeline from exported py file"
   ]
  },
  {
   "cell_type": "code",
   "execution_count": 146,
   "metadata": {},
   "outputs": [],
   "source": [
    "\n",
    "\n",
    "features = X_train\n",
    "training_features, testing_features, training_target, testing_target = train_test_split(features, y_train,test_size=0.2, random_state=42)\n",
    "\n",
    "tpot_pipeline = RandomForestClassifier(bootstrap=True, criterion=\"entropy\", max_features=0.15000000000000002, min_samples_leaf=5, min_samples_split=10, n_estimators=100,random_state=42)\n",
    "\n",
    "\n",
    "\n",
    "tpot_pipeline.fit(training_features, training_target)\n",
    "results = tpot_pipeline.predict(testing_features)\n"
   ]
  },
  {
   "cell_type": "code",
   "execution_count": 147,
   "metadata": {},
   "outputs": [
    {
     "name": "stdout",
     "output_type": "stream",
     "text": [
      "0.7401075681905493\n",
      "              precision    recall  f1-score   support\n",
      "\n",
      "         0.0       0.75      0.95      0.84      3673\n",
      "         1.0       0.66      0.24      0.35      1533\n",
      "\n",
      "    accuracy                           0.74      5206\n",
      "   macro avg       0.71      0.59      0.59      5206\n",
      "weighted avg       0.72      0.74      0.69      5206\n",
      "\n",
      "[[3487  186]\n",
      " [1167  366]]\n",
      "auc_score 0.5940538749205472\n"
     ]
    },
    {
     "data": {
      "text/plain": [
       "[<matplotlib.lines.Line2D at 0x1970c1ba2e0>]"
      ]
     },
     "execution_count": 147,
     "metadata": {},
     "output_type": "execute_result"
    },
    {
     "data": {
      "image/png": "[encoded data removed]",
      "text/plain": [
       "<Figure size 432x288 with 1 Axes>"
      ]
     },
     "metadata": {
      "needs_background": "light"
     },
     "output_type": "display_data"
    }
   ],
   "source": [
    "print(accuracy_score(testing_target,results))\n",
    "print(classification_report(testing_target,results)) \n",
    "\n",
    "print(confusion_matrix(testing_target,results) )\n",
    "auc_score= roc_auc_score(testing_target,results)\n",
    "print('auc_score',auc_score)\n",
    "ns_fpr, ns_tpr, _ = roc_curve(testing_target, results)\n",
    "plt.plot(ns_fpr, ns_tpr, linestyle='--')"
   ]
  },
  {
   "cell_type": "code",
   "execution_count": null,
   "metadata": {},
   "outputs": [],
   "source": []
  },
  {
   "cell_type": "code",
   "execution_count": 98,
   "metadata": {},
   "outputs": [],
   "source": [
    "#### TESTING NEURAL NETWORKS . I built a multilayer perceptron using pytorch to check its performance on the data"
   ]
  },
  {
   "cell_type": "code",
   "execution_count": 99,
   "metadata": {},
   "outputs": [],
   "source": [
    "import torch\n",
    "import torch.nn as nn\n",
    "import matplotlib.pyplot as plt\n",
    "import torch.nn.functional as F\n",
    "from torch.utils.data import DataLoader,Dataset,TensorDataset"
   ]
  },
  {
   "cell_type": "code",
   "execution_count": 100,
   "metadata": {},
   "outputs": [],
   "source": [
    "# Scaling the data to feed into neural network"
   ]
  },
  {
   "cell_type": "code",
   "execution_count": 101,
   "metadata": {},
   "outputs": [],
   "source": [
    "from sklearn.preprocessing import StandardScaler\n",
    "\n",
    "\n",
    "train_x_processed, valid_x_processed, train_y, valid_y = train_test_split(X_train, y_train,\n",
    "                                                                          test_size=.20, random_state =42)\n",
    "\n",
    "scaler=StandardScaler()\n",
    "scaler.fit(train_x_processed)\n",
    "train_x_processed=scaler.transform(train_x_processed)\n",
    "valid_x_procesed=scaler.transform(valid_x_processed)"
   ]
  },
  {
   "cell_type": "code",
   "execution_count": 102,
   "metadata": {},
   "outputs": [],
   "source": [
    "# converting numpy data into torch tensor"
   ]
  },
  {
   "cell_type": "code",
   "execution_count": 103,
   "metadata": {},
   "outputs": [
    {
     "data": {
      "text/plain": [
       "torch.Size([20821, 1])"
      ]
     },
     "execution_count": 103,
     "metadata": {},
     "output_type": "execute_result"
    }
   ],
   "source": [
    "\n",
    "train_x_processed=torch.tensor(train_x_processed,dtype=torch.float)\n",
    "valid_x_processed=torch.tensor(valid_x_processed,dtype=torch.float)\n",
    "\n",
    "train_y=torch.tensor(train_y,dtype=torch.float)\n",
    "train_y=train_y.unsqueeze(1)\n",
    "train_y.shape\n"
   ]
  },
  {
   "cell_type": "code",
   "execution_count": 174,
   "metadata": {},
   "outputs": [],
   "source": [
    "valid_y=torch.tensor(valid_y,dtype=torch.float)\n",
    "valid_y=valid_y.unsqueeze(1)"
   ]
  },
  {
   "cell_type": "code",
   "execution_count": 183,
   "metadata": {},
   "outputs": [
    {
     "data": {
      "text/plain": [
       "torch.Size([5206, 1])"
      ]
     },
     "execution_count": 183,
     "metadata": {},
     "output_type": "execute_result"
    }
   ],
   "source": [
    "valid_y.shape"
   ]
  },
  {
   "cell_type": "code",
   "execution_count": null,
   "metadata": {},
   "outputs": [],
   "source": [
    "# Creating torch Dataset and DataLoader"
   ]
  },
  {
   "cell_type": "code",
   "execution_count": 184,
   "metadata": {},
   "outputs": [],
   "source": [
    "dataset=TensorDataset(train_x_processed,train_y)\n",
    "dataloader=DataLoader(dataset,batch_size=64,shuffle=True)"
   ]
  },
  {
   "cell_type": "code",
   "execution_count": 242,
   "metadata": {},
   "outputs": [],
   "source": [
    "class class_model(torch.nn.Module):\n",
    "    def __init__(self,num_features):\n",
    "        super(revenue_model,self).__init__()\n",
    "        self.lin1=nn.Linear(num_features,512)\n",
    "        self.lin2=nn.Linear(512,512)\n",
    "        self.lin3=nn.Linear(512,512)\n",
    "        self.lin4=nn.Linear(512,512)\n",
    "        self.lin5=nn.Linear(512,512)\n",
    "        self.lin6=nn.Linear(512,512)\n",
    "        self.lin7=nn.Linear(512,512)\n",
    "        self.lin8=nn.Linear(512,512)\n",
    "        self.lin9=nn.Linear(512,512)\n",
    "        self.lin13=nn.Linear(512,512)\n",
    "        self.lin14=nn.Linear(512,512)\n",
    "        self.lin15=nn.Linear(512,512)\n",
    "        self.lin16=nn.Linear(512,512)\n",
    "        self.lin17=nn.Linear(512,512)\n",
    "        self.lin18=nn.Linear(512,512)\n",
    "        self.lin19=nn.Linear(512,1)\n",
    "    \n",
    "        \n",
    "    def forward(self,x):\n",
    "        x=F.relu(self.lin1(x))\n",
    "        x=F.relu(self.lin2(x))\n",
    "        x=F.relu(self.lin3(x))\n",
    "        x=F.relu(self.lin4(x))\n",
    "        x=F.relu(self.lin5(x))\n",
    "        x=F.relu(self.lin8(x))\n",
    "        x=F.relu(self.lin9(x))\n",
    "        x=F.relu(self.lin13(x))\n",
    "        x=F.relu(self.lin14(x))\n",
    "        x=F.relu(self.lin15(x))\n",
    "        x=F.relu(self.lin16(x))\n",
    "        x=F.relu(self.lin17(x))\n",
    "        x=F.relu(self.lin18(x))\n",
    "        x=self.lin19(x)\n",
    "        x=torch.sigmoid(x)\n",
    "        \n",
    "        return x\n",
    "\n",
    "\n",
    "\n",
    "model=class_model(num_features=37)\n",
    "\n",
    "\n",
    "loss_fn=torch.nn.BCELoss()\n",
    "\n",
    "optimizer=torch.optim.Adam(model.parameters())"
   ]
  },
  {
   "cell_type": "code",
   "execution_count": 243,
   "metadata": {},
   "outputs": [],
   "source": [
    "l_graph=[]\n",
    "iterations=[]\n",
    "valid_loss_graph=[]"
   ]
  },
  {
   "cell_type": "code",
   "execution_count": 244,
   "metadata": {},
   "outputs": [],
   "source": [
    "def train(steps=1):\n",
    "    model.train()    \n",
    "    for i in range(steps):\n",
    "        running_loss=0\n",
    "        for x_data,y_data in dataloader:\n",
    "            optimizer.zero_grad()\n",
    "            y_pred=model(x_data)\n",
    "            loss=loss_fn(y_pred,y_data)\n",
    "            loss.backward()\n",
    "            optimizer.step()\n",
    "            running_loss+=loss.item()\n",
    "    \n",
    "        model.eval()\n",
    "\n",
    "        valid_pred=model(valid_x_processed)\n",
    "        valid_loss=loss_fn(valid_pred,valid_y)\n",
    "        print(i,running_loss,valid_loss.item())\n",
    "        auc_score= roc_auc_score(valid_y.detach().numpy(),valid_pred.detach().numpy())\n",
    "        print('auc_score',auc_score)\n",
    "        l_graph.append(running_loss)\n",
    "        iterations.append(i)\n",
    "        valid_loss_graph.append(valid_loss.item())\n",
    "        model.train()\n",
    "       \n",
    "            \n",
    "    "
   ]
  },
  {
   "cell_type": "code",
   "execution_count": 245,
   "metadata": {},
   "outputs": [
    {
     "data": {
      "text/plain": [
       "[]"
      ]
     },
     "execution_count": 245,
     "metadata": {},
     "output_type": "execute_result"
    }
   ],
   "source": [
    "valid_loss_graph"
   ]
  },
  {
   "cell_type": "code",
   "execution_count": 246,
   "metadata": {
    "scrolled": true
   },
   "outputs": [
    {
     "name": "stdout",
     "output_type": "stream",
     "text": [
      "0 179.35645613074303 29.237285614013672\n",
      "auc_score 0.506491100854262\n",
      "1 172.08102157711983 29.492982864379883\n",
      "auc_score 0.5131574016700207\n",
      "2 170.05943861603737 29.398258209228516\n",
      "auc_score 0.5003258914641122\n",
      "3 168.37561732530594 29.3251953125\n",
      "auc_score 0.5036914534208746\n",
      "4 166.26227393746376 29.49598503112793\n",
      "auc_score 0.500352175898275\n",
      "5 165.09117954969406 31.566444396972656\n",
      "auc_score 0.4927693830386191\n",
      "6 163.5580704510212 29.39166259765625\n",
      "auc_score 0.5025753417553633\n",
      "7 162.9871843457222 28.548192977905273\n",
      "auc_score 0.5144109738223019\n",
      "8 161.3694061934948 29.011825561523438\n",
      "auc_score 0.5081395611103326\n",
      "9 160.47572103142738 34.87713623046875\n",
      "auc_score 0.47450702922136445\n",
      "10 158.47406196594238 28.56772804260254\n",
      "auc_score 0.5115207516495702\n",
      "11 154.58486706018448 37.257720947265625\n",
      "auc_score 0.4845252169842199\n",
      "12 152.32924658060074 29.298900604248047\n",
      "auc_score 0.504427239979903\n",
      "13 149.7395657300949 31.325822830200195\n",
      "auc_score 0.532469179280975\n",
      "14 146.74928387999535 29.220857620239258\n",
      "auc_score 0.5062776286254538\n",
      "15 144.8360530436039 30.802255630493164\n",
      "auc_score 0.488531550822463\n",
      "16 140.60308772325516 33.59608459472656\n",
      "auc_score 0.4806152298049855\n",
      "17 141.98816919326782 33.42646789550781\n",
      "auc_score 0.4864137002995537\n",
      "18 135.60652662813663 29.168296813964844\n",
      "auc_score 0.5063873838978359\n",
      "19 128.57896864414215 26.9127140045166\n",
      "auc_score 0.5249536958844793\n"
     ]
    }
   ],
   "source": [
    "train(20)"
   ]
  },
  {
   "cell_type": "code",
   "execution_count": null,
   "metadata": {},
   "outputs": [],
   "source": [
    "# The roc curve score hovers around 0.50 which is no better than an untrained classifier."
   ]
  },
  {
   "cell_type": "code",
   "execution_count": null,
   "metadata": {},
   "outputs": [],
   "source": [
    "#plot for training and valdaiton loss"
   ]
  },
  {
   "cell_type": "code",
   "execution_count": 247,
   "metadata": {},
   "outputs": [
    {
     "data": {
      "image/png": "[encoded data removed]",
      "text/plain": [
       "<Figure size 432x288 with 1 Axes>"
      ]
     },
     "metadata": {
      "needs_background": "light"
     },
     "output_type": "display_data"
    }
   ],
   "source": [
    "plt.plot(iterations,l_graph,color='r')\n",
    "plt.plot(iterations,valid_loss_graph,color='g')\n",
    "plt.show()"
   ]
  },
  {
   "cell_type": "code",
   "execution_count": null,
   "metadata": {},
   "outputs": [],
   "source": [
    "## Using sklearns inbuilt MLP classifier "
   ]
  },
  {
   "cell_type": "code",
   "execution_count": 252,
   "metadata": {},
   "outputs": [
    {
     "data": {
      "text/plain": [
       "MLPClassifier(hidden_layer_sizes=(300, 300, 300, 300), max_iter=300,\n",
       "              random_state=1)"
      ]
     },
     "execution_count": 252,
     "metadata": {},
     "output_type": "execute_result"
    }
   ],
   "source": [
    "from sklearn.neural_network import MLPClassifier\n",
    "clf = MLPClassifier(random_state=1, max_iter=300,hidden_layer_sizes=(300,300,300,300))\n",
    "clf.fit(training_features, training_target)"
   ]
  },
  {
   "cell_type": "code",
   "execution_count": 253,
   "metadata": {},
   "outputs": [
    {
     "name": "stdout",
     "output_type": "stream",
     "text": [
      "0.7070687668075297\n",
      "              precision    recall  f1-score   support\n",
      "\n",
      "         0.0       0.71      0.98      0.83      3673\n",
      "         1.0       0.53      0.05      0.09      1533\n",
      "\n",
      "    accuracy                           0.71      5206\n",
      "   macro avg       0.62      0.51      0.46      5206\n",
      "weighted avg       0.66      0.71      0.61      5206\n",
      "\n",
      "[[3610   63]\n",
      " [1462   71]]\n",
      "auc_score 0.5145811122542472\n"
     ]
    },
    {
     "data": {
      "text/plain": [
       "[<matplotlib.lines.Line2D at 0x124914a2f40>]"
      ]
     },
     "execution_count": 253,
     "metadata": {},
     "output_type": "execute_result"
    },
    {
     "data": {
      "image/png": "[encoded data removed]",
      "text/plain": [
       "<Figure size 432x288 with 1 Axes>"
      ]
     },
     "metadata": {
      "needs_background": "light"
     },
     "output_type": "display_data"
    }
   ],
   "source": [
    "y_pred=clf.predict(testing_features)\n",
    "print(accuracy_score(y_val,y_pred))\n",
    "print(classification_report(y_val,y_pred)) \n",
    "print(confusion_matrix(y_val,y_pred) )\n",
    "auc_score= roc_auc_score(y_val,y_pred)\n",
    "print('auc_score',auc_score)\n",
    "ns_fpr, ns_tpr, _ = roc_curve(y_val, y_pred)\n",
    "plt.plot(ns_fpr, ns_tpr, linestyle='--')"
   ]
  },
  {
   "cell_type": "code",
   "execution_count": null,
   "metadata": {},
   "outputs": [],
   "source": []
  }
 ],
 "metadata": {
  "kernelspec": {
   "display_name": "Python 3",
   "language": "python",
   "name": "python3"
  },
  "language_info": {
   "codemirror_mode": {
    "name": "ipython",
    "version": 3
   },
   "file_extension": ".py",
   "mimetype": "text/x-python",
   "name": "python",
   "nbconvert_exporter": "python",
   "pygments_lexer": "ipython3",
   "version": "3.8.5"
  }
 },
 "nbformat": 4,
 "nbformat_minor": 4
}
